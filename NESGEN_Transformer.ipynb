{
  "nbformat": 4,
  "nbformat_minor": 0,
  "metadata": {
    "colab": {
      "provenance": [],
      "gpuType": "T4"
    },
    "kernelspec": {
      "name": "python3",
      "display_name": "Python 3"
    },
    "language_info": {
      "name": "python"
    },
    "accelerator": "GPU"
  },
  "cells": [
    {
      "cell_type": "markdown",
      "source": [
        "# MIDI music generation with Transformer\n",
        "\n",
        "In this notebook we'll be presenting various approaches for training a Transformer model that generates music in the form of MIDI (Musical Instrument Digital Interface) files.\n",
        "\n",
        "Notebook presented for the A.A. 2023/2024 Deep Learning project.\n",
        "\n",
        "Group members:\n",
        "\n",
        "- Valerio Di Zio - valerio.dizio@studio.unibo.it\n",
        "- Francesco Magnani - francesco.magnani14@studio.unibo.it\n",
        "- Luca Rubboli - mail@diluca.it"
      ],
      "metadata": {
        "id": "u00hbTlLk7VO"
      }
    },
    {
      "cell_type": "markdown",
      "source": [
        "## Installation of libraries\n",
        "\n",
        "In this notebook only 3 additional libraries are needed (plus the ones already installed on Colab runtimes):\n",
        "- `pretty_midi` is a utility library to manage MIDI files\n",
        "- `miditok` is library that provides several implementations of MIDI tokenization algorithms, useful for training AI models on tokens that represent MIDI data\n",
        "- `transformers` is a popular library for building and training AI models"
      ],
      "metadata": {
        "id": "KfCzH-Z5s5tO"
      }
    },
    {
      "cell_type": "code",
      "execution_count": null,
      "metadata": {
        "id": "u-NyqFwak4dU"
      },
      "outputs": [],
      "source": [
        "%%capture\n",
        "!pip install pretty_midi\n",
        "!pip install miditok\n",
        "!pip install transformers"
      ]
    },
    {
      "cell_type": "markdown",
      "source": [
        "## Dataset Download\n",
        "\n",
        "We will use the [MAESTRO dataset](https://magenta.tensorflow.org/datasets/maestro) for training the first Transformer model.\n",
        "\n",
        "This dataset contains MIDI files taken from several piano performances."
      ],
      "metadata": {
        "id": "I55SUO_ztKNQ"
      }
    },
    {
      "cell_type": "code",
      "source": [
        "%%capture\n",
        "!wget https://storage.googleapis.com/magentadata/datasets/maestro/v3.0.0/maestro-v3.0.0-midi.zip\n",
        "!unzip \"maestro-v3.0.0-midi.zip\"\n",
        "!rm \"maestro-v3.0.0-midi.zip\"\n",
        "\n",
        "dataset_path = \"maestro-v3.0.0\""
      ],
      "metadata": {
        "id": "UHnI-Z7-tNag"
      },
      "execution_count": null,
      "outputs": []
    },
    {
      "cell_type": "markdown",
      "source": [
        "## Libraries\n",
        "Here we import all the necessary libraries for this notebook."
      ],
      "metadata": {
        "id": "bW6Z2multX0z"
      }
    },
    {
      "cell_type": "code",
      "source": [
        "import json\n",
        "import numpy as np\n",
        "import os\n",
        "import random\n",
        "import shutil\n",
        "from pathlib import Path\n",
        "from random import shuffle\n",
        "\n",
        "import pretty_midi\n",
        "import tensorflow as tf\n",
        "from tensorflow.keras.preprocessing.text import Tokenizer\n",
        "from miditok import REMI, TokenizerConfig\n",
        "from miditok.data_augmentation import augment_dataset\n",
        "from miditok.utils import split_files_for_training\n",
        "from tqdm import tqdm"
      ],
      "metadata": {
        "id": "z6V8GN03tk9i"
      },
      "execution_count": null,
      "outputs": []
    },
    {
      "cell_type": "markdown",
      "source": [
        "## File setup\n",
        "\n",
        "Before processing the MIDI files, we first organize them by moving each file into a new folder named midis and renaming them sequentially using integer indices."
      ],
      "metadata": {
        "id": "O4B6YhqJ45Zg"
      }
    },
    {
      "cell_type": "code",
      "source": [
        "# Paths to the files of the dataset\n",
        "midi_paths = list(Path(dataset_path).resolve().glob(\"**/*.mid\")) + list(Path(dataset_path).resolve().glob(\"**/*.midi\"))\n",
        "\n",
        "midis_dir = \"midis\"\n",
        "os.makedirs(midis_dir, exist_ok=True)\n",
        "\n",
        "for i, midi_path in enumerate(midi_paths):\n",
        "  new_midi_path = os.path.join(midis_dir, f\"{i}.midi\")\n",
        "  shutil.move(str(midi_path), new_midi_path)\n",
        "\n",
        "\n",
        "midis = list(Path(\"midis\").resolve().glob(\"**/*.mid\")) + list(Path(\"midis\").resolve().glob(\"**/*.midi\"))\n",
        "\n",
        "def sample():\n",
        "  return str(random.choice(midis))"
      ],
      "metadata": {
        "id": "upVam-gYtv-7"
      },
      "execution_count": null,
      "outputs": []
    },
    {
      "cell_type": "markdown",
      "source": [
        "# Data analysis"
      ],
      "metadata": {
        "id": "c15uDIwN6RlK"
      }
    },
    {
      "cell_type": "markdown",
      "source": [
        "## MIDI format\n",
        "\n",
        "The **MIDI** (Musical Instrument Digital Interface) file format is a standard for representing musical performance data. It doesn’t store actual audio but rather instructions for playback, such as notes, timing, and instrument settings.\n",
        "\n",
        "The key components contained inside MIDI files are:\n",
        "1.\t**Tracks**: MIDI files contain one or more tracks, each holding a sequence of events.\n",
        "2.\t**Events**:\n",
        "  - *Note On/Off*: Indicates when a note starts and stops, along with its pitch and velocity (volume).\n",
        "\t- *Control Changes*: Adjust settings like volume, pan, or effects.\n",
        "\t- *Program Changes*: Switches instruments (e.g. piano to guitar).\n",
        "\t- *Meta Events*: Provide additional information like tempo, time signature, and track names.\n",
        "3.\t**Channels**: MIDI supports up to 16 channels, each typically assigned to a different instrument.\n",
        "4.\t**Timing**: MIDI uses ticks (subdivisions of a beat) to precisely time events.\n",
        "\n",
        "Many python libraries to handle MIDI files exist, here `pretty_midi` will be used as it appears sufficiently flexible and easy to use."
      ],
      "metadata": {
        "id": "mpAEAJty6Xrb"
      }
    },
    {
      "cell_type": "markdown",
      "source": [
        "![Screenshot 2024-12-30 alle 15.18.37.png](data:image/png;base64,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)"
      ],
      "metadata": {
        "id": "O454LA7r74x4"
      }
    },
    {
      "cell_type": "markdown",
      "source": [
        "## Tokenization\n",
        "\n",
        "We cannot directly use MIDI files as input for an AI model, so we must transform them into a numerical representation, similar to how text data is processed for models. To achieve this, we need a **tokenizer**.\n",
        "\n",
        "A tokenizer is a tool that converts the raw MIDI data into a sequence of *tokens* that the AI model can understand.\n",
        "\n",
        "In the context of MIDI tokenization, each token represents a specific musical element or event, such as a note, velocity, or duration. These tokens act as the “vocabulary” for the model, enabling it to learn and generate music."
      ],
      "metadata": {
        "id": "GlCY3jLut44O"
      }
    },
    {
      "cell_type": "markdown",
      "source": [
        "![MidiTokenization.png](data:image/png;base64,iVBORw0KGgoAAAANSUhEUgAAAd8AAADNCAYAAAD5aXp8AAAACXBIWXMAAAsTAAALEwEAmpwYAAAAAXNSR0IArs4c6QAAAARnQU1BAACxjwv8YQUAAD+6SURBVHgB7b3ZsyRlet//zay9zr70Tm8szTbQNAwgyTMDyELyTwoJ5mfLDkfYhrEvHOEb4C8AfOErO4Ar+0aewWGHHWE7AMuO0RIyPZpNSIzonmFroBd677MvtVdlpp/vm/XWyVNdZ+tTp7rqnOfTkV1VWVmZWXkq85vP8j6PEwhQFEVRFKVjuFAURVEUpaOo+CqKoihKh1HxVRRFUZQOo+KrKIqiKB1GxVdRFEVROoyKr6IoiqJ0GBVfRVEURekwKr6KoiiK0mFUfBVFURSlw6j4KoqiKEqHUfFVFEVRlA6j4qsoiqIoHUbFV1EURVE6jIqvoiiKonQYFV9FURRF6TAqvoqiKIrSYVR8FUVRFKXDqPgqiqIoSodR8VUURVGUDqPiqyiKoigdRsVXURRFUTqMiq+iKIqidBgVX0VRFEXpMCq+iqIoitJhVHwVRVEUpcOo+CqKoihKh1HxVRRFUZQOo+KrKIqiKB1GxVdRFEVROoyKr6IoiqJ0GBVfRVEURekwKr6KoiiK0mFUfBVFURSlw6j4KoqiKEqHUfFVFEVRlA6j4qsoiqIoHUbFV1EURVE6jIqvoiiKonQYFV9FURRF6TAqvoqiKIrSYVR8FUVRFKXDqPgqiqIoSodR8VUURVGUDqPiqyiKoigdpkvFN4CiKIqibFfi6CJ830etVjOPnIJg+4qw4zhIJpOIxWLmuaIoirJz6BrxpdCWSiXMzs6iXC4bEe41UeL+2om0unnge67rGtGNx+NIp9NIpVIqxIqiKDuIrhJfiu701BSyfX1GlHoRK7jNIsr5nOx83lxMTk6a58PDwxgcHMTAwIAR4VafVxRFUbYPXSW+dDVXRZTGx8fR399v5jckKGJR3iqdEDQrslHXuX3OifCxUqkgkUiYR1r81t1OEeZ8WsGKoijK9qRrxNcKo+95jXlWrJqXWW0dqy0TtTy3Aiu8VnDt85Xeo/uZEy1+CrBTX44WMC1/vqcoiqJsP7oq4Wo1rGiuJp6321Ub3X7zvkRvDGzM14prNpvF9evXzfsZeZ7L5cxzCrC6nxVFUbYfPWdaRZOamqduwq3vEwWWj1Zs7WsmW0WTrjhdvXrVzKtWq1hcXDQW8XbO+FYURdmp9I74tnDftprWXs3mPr8WjRuByA2BExHiqNXLifFdCnAmkzHbv3z5MoaGhlAoFDA9PW2EuNn9riiKovQ2XSe+Vv6ahTA6f6uEs11ErXG3SXhbTRRgO+TohrifZ0R0R0dHTRLW1NQUisWiCrCiKMo2oist31ZJSvUZ6/rsrU7RbW8W2rxGgOtuZmBllzkF2LqhK2LpcuIwJA5B4v7k83kVYEVRlG1EVyZcrWTJco6zxuc2Q1vjxhRWLGVYc4qKZzST2Qov53Hokf0MrV4OPeLnKMDRJCxNxFIURelddCzLFnOTldtk8UarXXGi0PI1Y8Ce52FmZsbM43ILCwsmFkx3tCZiKYqi9C4qvh1g2TCpJgGOijDF12IzoPk+RdcmXvE5rWMvMh5aURRF6S26dpzvSpbdZiy+tVy11t27qW2EG8Kq26boRlzQVoTj9apWfM4KX3ZYEocccegRXdB8Pj8/bwpxcHywG4kpK4qiKL1BV4qvFcCoqLSlOhVFdYsrYK0Wl16pCEfD+hXxtcLPGs8Ni1mmsli7FN2RkRHjdqYI01LmcirAiqIovUXXia8b6Qi0HQXFJGFhuSt6pe/K2C+tW5OAlssZtzMFmLWvmYBlP8+hSirAimVubg5vv/02Tp48iVOnTuHChQtQlO3CkSNHzPTiiy/iqaeeMs97ka4uLxl1/24bYalnQbeiufOR64aVsCjAYbjYMUOOJiYmTCEO1oO2zRi4nNs0rEnZWVB033rrLbz55pvmuaJsR3gzyYk3l+S1117Dq6++il6jqxKujBW4wntty+7lelaasLlxwsE61oFIy8GVymMuDUNyGkU4MpmsiQNTiCm0tIBZlIPiy4xoZkEzCUuzoHcmvBidOHHCXIhUeJWdBH/zR48e7TkPT9d1NSLNFqCFQrOZxgprylK7CmysFlfGUkw4aqVaq7XVGF4rwNHXtHp5ke3r62uMA9b4786EF51nnnlm2cXn6aefxnPPPYfnn3++Z91yitIKhlI4vf76643fvD0H3n///Z75vXf1UKNuLB3ZCSigzd/bDkWyQ5DsMCTbAYlWLzOidQjSziMqvKyK9sYbb5iL0Msvv6zCq2w7HnnkERPvPX/+vPmt8zdPrAD3iuenZ1oK7iQoohzPa8WXgsrsZsZ7OXGcL5OxbLckuqD5A2QW9OzsrMmIpqWsFvD2J3r3z98ARZcXJ0XZCfAGk14eK7o8F5j30AsxYCfoErOSu0HhOHv2LO66666betmuJ5GoHWKz2XWs9flWbmVrtfKH88knnzSqWhEb/7UWrRVVO5/JVowF79q1y8Q9eBx57DgOWAV4e8PfC//mFloBvBgpyk6DSYavvPKKec6bUFrF1iLuVnrG8m1HAQyynkIbW/l5vm+FsznOTbcys5hp5VJsadVSSM1QIlq59RrQhFYuJy5HK5k3LteuXcP9999v1kEowIwDK9sTm+1J6F5W4VV2Kvztv/fee+acsEPtXnrpJXQz6nbuAqz7mHdqtGT27t1rxJjzmNFsXczRicJL65gTS0/azkdnzpzBnXfeibGxsUbN6GgTB2X7wAuMpReHWihKO2Fyob0h5aOKr7ImtlsRRZJW67LuR5G2hHYokZ34mpMVYBsXZgyY6/JEoMNhShkV4G1INLtZ47zKTofZ/db7w2zobqdnYr5kPfHUtdjqmO56aOl2FgH16qIbbUNoXxOKbLP4WuuXljAFmPM45pdCTCFnPJgJWNZdrWwfmsMWirLT6aVzQi3fbiGSRBU0FeKwottcijKaeGXHAvORY3/ta1rCFOFWgq8oiqLcHlR828h661E335G1yoButUz0sXkeLVvbmnCpPGVYjIMWcbRdoaIoinJ70UBgm2hVZtKBrWblLOum1LysdR0v+2yTy9nSLL7Nky3GQavXuvI5LljdkoqiKN2DmkNtorkile3ry2rVYg/DD0QYowUuHc6XGG/gYqnX0fpojgc3u6eJSbiS+K8tyrFeq1xRFEXZelR8N8hqFuSyNoHhwkZgKb6BKRnpouawb6+IrldAzBx+1mwOsB7xtSLbqva1sXopwFheK5ouZ7V8FUVRuottIr4bsxw7BaWXuxa6lgMUaz4+uTqPOSeG/kyAJ8YTIr1i+Tobr8fcKvYb8LFu/dqxwSQ6dElRFEW5/fS8+NKqdIKYPFbN69XKUEZb/m3JvjTW69QrWVF56XIWAZTX5y7fwJ+dnsANt1/2uYD93z6Ko8NpWd4PndOOU7eWl7PWkKtWGdDN31UtX0VRlO6h9y1fEZtCvgTPLy4bjkNXK8e+utYqrC++FV2SjN0tq0ylk4iznrJYs8b9K/8yfVnE3ZjZg3wthlrfbsQS/ZiZuIgPz17DHd9IIZ6uDzGSOLAT+qvN+laM0UYEulX7QRv/1XGgiqIo3UlXim+ztbayCDmoBT7+/NTf4MaXnyPlhPnFjHP+7Gc/w8LigqmHPDM7A69WFhFk1rFrkp+iOHW39U0WJ5Y7s12feVKcK+twfJmqNFrh+DEMZvvxrae/g/G9u01stxRzkCsV8A9/7zkc2LPXJDsHsu2KzK+m5AYhO4jTZy/it+7ch/50xuSdxyi+3IjvRPZgdeFc6Ri1Gr6kKIqidAdda/muJzvXvjvjVzBfyKHficGK79TUFBZzM3CTcVybWEA1SMJJpMVCrt28hmUqGzS9F4TP5SEm+zQcq8i6YpgV3Q1ESF2Zn6mWkYvlsDA/i+xAv1idMSwkfSyWiigUSybr2K2Ps3Ug8d2ghHSmH9PTSZy6PIe/M5pFIvBkU+GNgbF6cWsNHKJjfFV8FUVRupNtkHDlims5LlZjWNkpFoubwhLUnVKpAtE05JOjOPbsCyilxuQL+yumZzXPb36dlLjy04kvMRMfxV8XRlBk1yGxVBNfnEb+lycRq/oYTGbFuk2g7FaRl5sAW/KR4ku9dCUAnKlWw7WP7MV///ACjh4YxZ0jKXnfg+ck6t/Kw2pJZOvpvhQd+6soiqJ0Dz0tvg0bVSzR0fExPP3kr2NgYBBXr17FD3/4Q/QPjsER0Ztm5afxw6hkD6NmRtvWY6q42V3r23GyNlPYvmYt5aCMT6bmxdLuQ3nfMVRSaVlBCu7VRVTjf4XU6DC+/dTTSAwM4dzcDfzFj0+ixj68ZryvU99uTGQ1Ja9qSMlyOW8/3v7xJ/hXf+84xhJleY8RY7c+OjhqeK8/ftuq9aK6oRVFUbqHrhLfqECsq0wjF2FmEy1Kts6LuY0yi3z0xVLtE/UaT/djKCbiGZd5sWRdBH0RWL9e+ILjY2MIB/wE4l4WS9WsOxwi5MAWwkji6h0njFWdoRx6VSSdPsRlXeJpRjkusplNI53NIJ6nBeuamHPDgg5CEfVlPWZErnymb3QcFybK+NNPz+P3TxwylnScDRMQup9jphAHndWxdQ+m0uQqRVGU7qYrLd9mAV5JiK3EJMTVPJfP42/+5kNk0hnT1YdN5BOMs3ouqrU0ApddksJ4r2tqWtTEqmS2lO32EwquL48Bk6koufKYkGcuhdxkGAcQ/ZbPyzqdtLi6RUb9AirOHOJxH0GhjA8/+EBiyynMiJXsebUwDRr1dK66AidkPzxZZ+CH7w2N7scHl85hfHQev3FwDCm/JPsgbmrXSC9QL9Rhq4GquCqKovQ2ve12rmsy2/FRpKampxB342aIESenJhHeeAJZmfbHF5BySqi6faJhfagFGZkSlFrjYqYlDHEF08YsuSkzRrfPyyO1cA0zkzdQKZfMMpXqPPb39WPP2FFcF9Esi9AmB/qwwJrKiThmZqZFNBNYEDH2PRHveBjDNbvq1l3dbuiERr3kJMW4PHwAP/zlJbjVAN85ukv+MJ4RZ1bEWipVGfnuGxTgVlWxFEVRlNtDzydcOfXM4ISYpHuG9xjxpeVL13M6FUM8lUSqOoln919EPhXg7GQZ5yYc5OOHMSiC54uLOUj2oySO5JqfQEKE3JV1ZGXO/Kc/xtTp/4tqftGIX0x0qw85BIk0Do/fg7H7nsTFQ49iWrZN93JCrO3h4RFxgYtbOahgsVgKRa/+z8peTCxaU/XKmMKusaxdEe5g6ADe/3IOw5lh3Lc7KXtUlhsDWU72p+G3RmvhXWmebdygKIqidA9dL75rWmpOuAybxj/+xBPIJNOYnJrED//khyJyvhnXG4/n0edfw+JkEQNFBw/0J1HKnUN1Igt/7AEUE3fiup8SK7Yf6WoM2VoZC5//BLMf/hBubR4JEW26tpOyukedBOYySUxMT+CJX/wpvMUS/EEHk8kYMn0ZPProI+gfGMa52UnMF4p11zPqumm/SxCWgqzPqgYSFw6qIsAZ5DNZ/K9TF5F8/BDuH5GbB68MCnTg1t3jK1SsWq8gK4qiKLefrhLfmzoDrcdFGoSfozXpiYUXowVJW5hdfRjrdTzcqO7Df/3iATjZ/SiV5rBrtITH772IPckAPz+TkxVMYW9axDfpihC7SCxcwszZk8g4ZWORxrJMtUriYMzH33U9/Co9gEvpBHYnfNx18RTm9oyJxR1a4L7Eg1OJpFisrok5x0ypR7urYaMFFuiAwwpU/L6OSdbin4KfSWaAIsbwx7+4gODhw7hvbNC4pVGP/gZNx2ul49gq41lRLK+//jpee+21ZfPOnz+PI0eOYCO8++674u0ZxtNPP92Yd/LkSfzoRz8yz1944YVl65ybm8Pbb79tHjmf77cDro/7EoX79fzzz9+0X+3croXbPn36dMt1/+AHPzDb5TF67rnnzH61g80c5+ixeOqppzb8d18PG/1t7DR62u3s1HOYmCiVz+fxwQcfiPClUCwWTD/bXFAyjQb6E1kc2jWC/Pyc2JAS+/XH8FcfpeDFxGoduB99OXE6Vy5hcCyPK+5BFAuLyOUWQMGrFGeRZnayP43vPDuOOwcSOPmzWcyLUO5/ehgXfngKxS/3wckVsDA1g7/98CP0ZdOYEkvWq/omY5p7aVy/Qd1wrbuQTRTXdZZqOhvRlBsJsaIXg1H8zw+/wh8+cQ/u3SViHvjLOhotg67lppuWaHtBRVmJN998E0NDQ+b5RkXhwoUL+O53v4sXX3yxcYHl+l555RWzLl74+fr999/HI488Yl6fOHHCfI4XXT5SmPj+Zjl16hS+973vLZvHbVjxtTcbdr+47VdffRXtgMfACo29CXjnnXfMezwWPAbcF35XPvImZ7O89dZbePnllxt/M343Hkf+HaLH2e4TRe/73/++WZb7x322cJ8++uijtt0UkI3+NnYiPV19walPpnmQTNVKRURzEbVqzSQrJdMxDAwMYGxgEEd3ZcSSzSPtezg80ofhxDAKud2oitmZmy7g6vkJnP7kS8zNz+Ors2dx4fwFfPXlOXx95gpmL0/g2IFZfOvxSfQfu4hy7LK4nf9W3M+fY/jQIuYXr+DqhctYuDGHa5ev4+xX53Dp4kVMT0+h5oUZ1r4VzSBsokBNrlSrpiAIk8NMQlV9PG85nkIlO4Dy4C788akLmC5UGrFbkxhWX1cjpttiTG9zbWdFaQUtMV4gOW304vvMM8/cNI9i98Ybb2B2dtZc0HmRpVAQPicUJgoQxYOiwKld2HVzsqJOIaA4vfTSS2a/uF2+bsd2KagUM/ud+cjJbpcCw2Nrvy/ntWO7PJYULXuc+bfjDQbhc35XbpPv82/C/eS2CQWQgmv3l/Pt36hdbPS3sRPZFqWP6K51xe08Pj6Offv2I9uXNW5ovxagXK6KC9rD+GAMaec63NJlJMslmZdGLZFGuVbChbNfYnF6Dmc/O4+5yWn5bEasVg9euYJawcGh8Rr+2e/tQ+paXixgFwPJLPqKLsr5FJIH96DcL8LvhlnTu0ZGML5nXOK+AyjJtukGXzJ5ObpXPuc7KMo0t1jElbNfYPbiGcxcFfGez2MhX8ZEEZgtllGS/bvkDuEvTp9FTtZl6kn7nlmXExHfZuw8rWylbBX2Qt8ML+oUGWLF3D7yPQqitUaPHz9uHq0obwYrLF9//XXD4rMuTbpfid0v655+7733sFm4bm6HAktR5Tbsdu33tvtmv2c7XK202q11zfVZa9LSaj/4yH3hxL8BX9vl2nkDdCu/jZ1Ib1u+dYuXbufhoUF848EH8c1vPoaHHnoIqVRK3GmDYvlm4MRFhCvz6EtIPPXGDVQmJnDpynkExSkcS9bgF8/Dr8hUmETx+gTGDx7H0NgBxOJiQYu1fGxsFH2/cHD2Py5g8ueDuHqugvHFPjiX4vj8xiiC9CEjyqmBPjz5rV/Hs7/9LB46cRyZ/mx9fDDCxDA52lU55JfyAb5aBK7OV3BIIrz/7JFx/ObBEXjT85icLmFmIcD1XBxn8664wbP4yQ0Hn0/m4AWeyZAOpyWCZkuYQ698H2r3KluBtSRXctvSBUzriq5PXnBphVmsIFAo7EW6HW7HefFYEV7caXUdPXq0IbLcHyvG3C9ihWizcN38Ltye3a5dL7fBY0RhG5GbclqffN2uOKddD61HbrP5OHI+98lul/vTfENg97Mdx8Ku91Z/GzuNbWL5crysY8bVso6ycc+KJZpI+RIDFivy8lVc/ewL9Il1O3L5CvrmL2Fh4gwS3jyyyTLi85PIzk4gPXcDuRtnEIwNI3nfw2IZOxjYDXEhF/HFB3n03bULn/34Oq5cnMbRgwM495GHz67tQWrPMZPVXJM7gcVKGXlxJbOloReElmo4HCokMIU82I3JgeeEhSRH+tP43fsG8M+f2IP97gIccUOXnQwW/RTyYr1fClz8/IsJFPNh8lZtjVpXa3aDUpRNwAu6dVW3ghdgCt9qFi3jgVyObsh2iBHj1owt0rKmS5PYGDD3gwJDMbJxxmZL8VbhOjhRRBhT5fNo7Ln5HLQ3Ce2Cx5lix2No3d3R9yh20f2wCVB8j/vJv6Vdph2047exU9gWMd+4E0O5WMKvfvVLfPBXH+Dzzz9HIpbA4vwsfvnxx/jkzGe4cv407p+Zx3e8HPrnP0YmPwlv9hz8qa/Fip3B/RcnsH9BxLmcw3B/Eg9+5/dw8MiD+J1v3Y0zi1OY3u9j8KE0Eo8MoJqu4N4Tgzg3LIfvwD6J7U6b0pYUXLYy/LM//RN8JD9ojjcmQd30NZUwnaUdD/OufGT9EgaTLk4cGsL3fm03juIyMrKfLClZQRyL2UF8vJDE2atl1FOjb7J2g1Xc0MrWQsumXZZDt0Pxsq5LKzL8/tEEHro0bdy1WYwIX/MztI6sG3Kz8GJvE45oAfK1TayiMPE5RcqKfbsu/lbMuG5uk9/dunBpcVor0MaaefysG3yz2CQz7oO9oYjCea1i3HRXc1+5f8S6rTdLO34bO4ntYfkirFDFjOf5hQURvSImJibx5a/OYmGmgKzETw+d+RIjX3+OTLCAoQtf4e7r1zFUyGFkegqPiXV5vFzDnSK+/vRpTJz6L5i6+FPsP7wXhZyLI0d346xTxJxYo5drwP59LmKjfThXq+Lqmb9CbforsbRh9qGUX8Dc/BwWmfhVq5ezBCKNFWxlrqAhxOzz67EOtF/EPSMu/umJERx2bqDPqYibWm4sYllxPw/gs9kCAk+Wsw2Pbho/3Ey9PKc6oLcUDp2gG22lWNd2gpabzV6NxjKjF287nxd1m9Vs4TGybtDmoU6bZaW4pc205oXfJj3ZhKXNwnVELceoqNshNTbGbYf7tCO+arOJrfA2ew+ix9z+vRgPJ/wMrXTeqPOxlcv6Vtjsb2On0bPia2K9dSMvFo/BicUwMjqGPXv2cnSR/NAuIYhnke3rw3ilhr3Xa6jOT2Fkbx8yV6o4PgU8Pu9j7xdn8HAphz6JvQ7HF5HOTGPk2oc4OPMJMqk5XK1WMOKM4tMLHr7+tIbLV2s4NJ7ETy6WcHZO1inu5molLy7mqkw1U1t67969GOgfMMOdkmKB8+bAZDL79czkIDR7+UBhjHGsL9tABDAW+8N7x/HQSBzj5WviUq+ZHsTzcRdfyo3FTKUqXzy2THzD2LfTmOCHkyldHZitm05JKsJbh7WsGPNrl2XTjVA0ebG3E6G42GEsjOfRmqEgUWj5aC/sNh7I13boDaeoGHEZui5tbHa98DPWoqZbk5O9wFP0KADcl+gwm2i88Va3a4f28Lva7VoBst+b73G/7O+C42o3u12uk5+1iV48jjZzmPN5M8jt8T17k2MT3Dif27PxV9Ico+W6uI6NuKQ389vYzHZ7lZ5vKWirLo6OjODBe+9FIp5CX5Z9fV0sLBaNNbkr4Ym0zktsdgTZfSlkLgXYd30BwzcuIT4ax5C4j2e9FOKFGgbYpKE8j3Kugvv334HKWBo//am4p/MB/vpnc7heE7Hsq2Bq8RoGhnchLm5g0/ko5iCTzeA3/+5vyfxBnL50Dj/961+gKtaxqR1tLV80tDcco8x2hwiHH4WtlMSyFTX9zQf34bOfXcBszMe0WLpePI5rRR+T8p1GUhnEV8lkVom9fdgLIi+GvOi0K7mmV2DslRd8XkBJNBZpRbZ5TK51fxI7JpUTxXG9x4/boKjaIS7WIrTP+T63aYW3OdZ8q9ul4NCFagWOn7Niw/XY4UY2+Ys3AtF46K1u1x7LqPcgmsDE7xzdDvfTCh1d0dwnTq2OhV0//04UQ/t9Nstqv42t3G630rviG0QsSRE3Tx6np2eQFmHi2FlWuKry27kJ5EoxTA5IjDYPTF3Io5zsx2SqjAQLWshna4MZnJtYwKyTwOSciFv/MEpzVdyILaJazWFwIIOZ+XH8n+tTcFJZjA/vk20mEStVURWrmTFfij2TGuj6pgt6WZGLyHjcsANiPT4r22dd57CVIhrlq3yJ9B4YEMv88AimLpWw4KZQkOXn0I/LUwu4ZzRJ1YbSvfAiQiuYF8B2Zri2G+6j5VYqXDXnGNjYpx3uE7VsVkvEsXB5Wku8AG9kX/g57j+Pu81sjro7bbEH62JtjnHe6nYJbx7sOOnm7VJcrAhbS7wd212tUIct5GEFuvn70vXOba50LAh/s7xhiFrpG2Ujv412brdX6Fnx5Z/VDLmh61aszitXruLsp58jnU6jXArb+WXEiqVEXSwG+M/nJ+C5FaRkhlsRwa2KOOeLCCYqSNYWzLrmfI7dzeC6CBwt1lPBGSPwWaTAYlVlEcu+XBnzlyooXSvLusSaFau0LCKcFndzbjGPv/nwr40wTgVlFItieTuhi9hYo9bitclRzNJ2Q9UNw7/1bkcsaykPx/dn8H+/FMHPZM3nFmoJzOdy8GqVRrek28VOjtU0s1ryjnWr8oLXTcMqWFzj8OHDy+a1a8xlK5FZL9ZtbDOWN0q0lGEzq+1Xr253K/aJ0EVMgV7rZmmj3K7tdiO9a/nSlUvh8jzML87h2vUbSIrglgpFsVZZ2rEGJ873AxSSbFgwhqp8XYdFKpIidul4o1duLF0zIlgxlmnNjAmuVj0EtRJGxIKNp2Ioipiy7KMb74dbLWCIsVSZ4mKE1rI11ESFEzEPhZy4rGUTC6zHHMQaRTFC2Q0l1ljArHRVF+WGVRzURTigsLrYK9vdFRQxLVZ1rlhDXlYp2i/Wto90Mlj12Gw1UYtJWR3eqNhMV979t7uu8K1Aq6Mby/rZ4UKd3redtt21aNcQsF7Z7u2gp8U3fPRRrJZEFOO4SwQhlUiIJTIvbuAYqpWccf/mR4/i0LP/ApX0kFiqVSN2dPdat4gtSpERqzgmAlq59DFmf/YO3NINjI33oz+bwi4xYK/OLiDYfRh7KwXsncrj4EgB4w9n8cHFSXx8rgDXi+PI/rvg9CVwrZzDuUtXuYONWC/7+FJdOR6ZMBZM9zit6yBYyqAKJI5MGU65MYz0pU2bQ0c+UxFrvFis8n7DWM2ODivqOZqtTeVmVrPYdLud4XbdDOykOs+963auG5IBhVP+DQ4N45uPPYahwUFc/PqiEd+kuJ1FD1EWd7I3OoRiZq9Yv3V3rUk/DhqP4epcJP0ksoNH4SWHMP2jP8KN0oIIuocDY3sxJXHgWjmGTNnHmCy7b08c084ALi14ZhuZzAAe/+YTyIz14dMbl3F1YibcV4Tx6TDbOIiIcX0/nJW+o49kMolqQaxxiWOn5btWK2VTwzpM4gqA26S/7SgOv12wxRtWwtbabffQGkVRepceznZ26g0KRNTq7QQ5xpdilC8UTBJTuVyCL5alnwpQS4oAi+XpsnduXXcDJxRfxyqYxGcpknRB77v7OILyP8LUyT/CeGEefqkfcRFYR6zPZLWMeDaH4ugY/nLhAPzD98Gb/HNUvBKm5qeRcUpYkH2pVCvheiPFLyioTA7z6i5mcwMRhCJaz4UOhwY1UrlDy5zfz3y+bqXbY3C71HenuIbWw2qxUiu6O7mGraIoN9PV4hu06NbTCs6dn5vDX/7oLxEXi9cXv2xQt2ZpJcYl9pt0EihzWI/nLytM4dSzoQIzbthHKj+Nb0x/KiKXQvWe34ArbuyFk/8ZizNl7BIX9I2FRRTkM+WBNH5Ruxulb/wuShd/ZVZQqdXwsw9+Lr5r2R/XF/EvR6SxLr71m4ZolatGEpaxvSUk7XGYblDv1CSR6nhCbjDKqDg5BHH5PuxZHETUWek66Epk5mY3uhS7ATsOt9nNuFK/15W6AfH4tuNG8OQ6+syutM/R/ev1RCF+j+Z8jtVqNSu3Tk+P87WEQ3ck9sshRraxgIhsTOLAfbEEEp6Ir0wJipuzpL0cY0uhtt1/KL590+fx6NmfYmLsbpyVz4+e+PuoZPbh3If/DYVrn0JCxlj0apjLHsHwPb8Nj3Wdv/5YxNoBdZ37UJWF8snQSkUQNO2nHXIUthVs5XKm6LKIJC3woljvNceDV/OQDuhu9sx44KC+nNJd2LGL0SbuyhIUKI63jRbcsKzWozZasjAKSyVuVnzX6jO72j7bAhs27NDr4murXxF+t40W/1DWz/YYLCoixNjowTvuwJ133ikW6rgRYNZb5vhbdjhiDNhMbn2q+57jIrCoJz5RhDMDEsOtBriRm0FqYEREMoHYfd9E39N/iIX4mMR2K1h0fOTu/nUsjB9B2Vly/vLze/fsxV2yD2Pju2S1bt2qtf18I5nNoss1ZkI3qa8ZQiXiWqPwisjnxMVdKokFXfXQXwMycr/E7WiyVXdhO9hwyIgK78pQxFYSy9V61FKAbU1gTnZMbTuO9Vp9ZlfbZ1tFaruEYWxxDlunWtk6utby3chgGYrswOAAnnzySZNwxRqm7n/6T0bJquIKrojF6Ncb2VNoXVvUwhCYxKew/nIMxbGj+OTJ3+NoJBRHDolIi+UZ8xE/9A3sf+rvo/CLP0b/2B0YeeRZ5BJZJBNJ1ETAKd6ZdBqPPfYYxnaN4vTl85hdKBg3eH0zsPlRpvojI7tidcfccHSvKbRR/+aMTXuyQ1NzsygFNeRzOdRYfSvuYjCVRjx5e8f4KsthQYCVXJXKciicrVybhDcvdhiWLVYRHUNtjy/FztZqbgdc72p9ZlfbZ8b0OVGgo5W6FGUtuk58KUKBzUJuQVC3IJcqV8C4ZFnQ4uKlixjo68fU1JSpq1woFU1NYzYCyopIskRjs73YyDwObVeUs2n4ww8ahfQ9cVQHVXlPDlO8D2OPPovfGikhuf9+nM6MoSbbKMXFihVxpsvaE+v02rWryBXYXGERNY47rpUkVhuIrIf1lcNkq6RYvtV6veWlxKulryRCLKbx+WkPeXcYCxL3rci6hpJFjPTFkUhui2jBtkHjuu3DCqztUdvKjWtrJLczDskKU1wvBTRaplFRtoquvIqv1RaP8d1QptzG8oV8AadPnTZWLYtsMNkpm80aMferPpLiaqa96EU0PZJ3Vdc+P8yE9sKSj8k4l0iYz7Eohifx408vXIezmIV3/D4EcvRSjBuzlKRfQ61WxGef/VJ028UckmKxFk2pSNcpIx7Uew7L2jw/bpol0PL1A4nnivvZr7EHcQx2QJLjpPDpNXFxB0Mo1qYRk5uA4fg8xgZ2m0YSirJdWa1HrX2/XYlWlmifWc1MVzrBtoj5sngFBbBcqYgI501tZzM8R8St5vmmoAbjvYlYHEkz/peTK+LqmkcKKKc0H51wSsqhoWDGGRdmTFleJ5JZxL/1j+He85QIaj+jwUjLfUBCtuPERUBRQj6/gIVcCTmWuKwHfF0RWtf3jKVLceU+eb5YwHKTEMh83ktQhM2QX5mqsu9fzJZwRdZzYzGHaq6CPX4ZI44I8EAGDnwoynZkrR61tEwpkO2uEqZ9ZpVO01NDjZYaxi/3SnNeIhHHnQcPmZrHprl9PYHKN+UcfWPJmnlOfcytbS0E1Fv+2fG+NjGqXv/CjRlL1MSMZcnayBFxCUt0WPQvLYLpiojOikvaF1f0185+EdU9qMj7834SZacPv5qWWPBoGnslJl3x5lEtFcRC7oNXqZlhT27KbSSDmf6+8l8VHn567gauVwNMiEUfqwQ4LCp/bKwf40MDjYztlbKdw+Ib4ZsbiZ0ryu1krR615L333jOP7Xb1RxsfcNLa5cpW03WW71IxiqDle63mUziH5IR99LHH8O1vfxsPP/RwWOEqyfaCGbFqfWRqOfQHBaRNJyOxQOMioKKgSSPKcWPFpsCMZT+0YkXhkiJigxD39eINOFe/gnvxM1SvnkNQmBTxnIdT9hD3M7jzsd/Bb73y7xB/+gWUH30O8Ud/H6mH/55YyL+Jn0xk8B/eP4Mf/PgzfDKZR0CRZaqzTDEvWPJ9O/UhUvLWYtnBlxMlzFZTyEvcelfKx8FUBffsG0M2nQ5LUgYBVvqHxk1KoCOBlZ5htR61hBbpai7nW+2Nu54+s5thMz1qV/vsWt93J/XG7UW60vK11lory3el5SsS452emkZRLMV8IW/ms0BFtVzAntg8/k72I5QkZntxIY1Li2kUMoPIDvSJK3kElZi4tsQKTTD+KoLs0KwVi7dy5jS++ts/QeHSWbjFAowz+t5HcOzXn8GRb/waEoN7xVCtiZ06hApjzSLqC/XsZZmJVKoPNYxjuiIuZHGFL15YQHxoFFVP4sPlKpJi0Tr+klD64p72/AR+8vEkZgr9uHRlBoNeGQ8M5PDgvpRY9ruMZR/YaldY+QiudKOiKN3KWj1qoz1xW3GrvXHX02d2M2ymR639bKsbAvt9KcKt9ne1zyq3Hyfokis0d4Pj7M6ePWtS+tkacGVMH0FTHLlSKeC//uWPceWTjzGWzph6zhxexMH3EzemxSpmotIV/Jt//U9weX4Gk/ksvj6/iGKujOtBDIMPfBverscwX90F2rqOrNcRUbz44Z9h4n//eywuXoAjLu3s8AEcfuof4thv/wGyuw9IdDeFWpCAX6saS9MXi1Y+ZuK8FFfGfHPVmjxnNrZvWg+y2lZMrPGizK/li9jj5fE7I7N48TeOYN/+MeMivzGVx7/986/w5SxQmJvCA+NJPLI/jm89fDfu2j9urHgj1LZEVstj6Zh4tyc3FJ9++imOHbsHe/fuNZWx1A+9fYhWfNMbrRC6rSk2G609TgFbrc/sZuD+UNgpvLdShGM18bT7vFKS2EaFt9crXPXSOdG7Y1aCMEkpbFofxmQLhYLEWV2TcEXxgUsXbYDr2IXXf34QN1LfQiAW8gNj8/j9xz5DX7yI969cwfTsGAYGB2WVSdTEBV2ev4qFk/8Lzux5pGTd6X134d7n/iUe/f/+ASblkM1ze04YJ3YTafieg5Lsx4KsuyjW64JYyUWxumsc5iRCyHrRzGg2dZ1lH+PymgeesejQhq2vi9nOsty+bBLx0gwGMhU8cqgPx+/cg717hsx4Zlq9ThDmRAerCqmqrLKz2ExvXBvr3Qo226N2NfFca583eiMRrXB1q+tQ1se2GDDKIhl92SwePCIWs1iWN65fN+KUSdGVm8AU9iM5cjcykyUMSoy2XNmN//HTa+jLJPFl+oQIXwK7Fs9gz55RLCaPYu78L1EpXEQ1GRbQOPYHL+Abv/scpmolk0QVOPEw2YmTWNqLYuVOLS5CbGDMi/hWTVZzDK5H1wKzmasm25kVrRyqLVst0d3MTkeu08icojjvGh/EP39WYr253SguFjDSN4o9g4HpTVxDWBva9DLG6nd2Kr3KTkN7424eW+FK2Xq2h/jKv/7+fhx/+Dj6+/pw5fIVYyVSrgJR5kERy4f6XJz5egZpP4mj+4bwq9kMTl0Sq/b+AfTPTIrlOo+Lc/PY9cARiR/PoeJWUckMYPzEd/DE7/7/mBAXc1EsU7GrwcrLNSeNxUoZC4t5sXQrqNG/jLDsIwtkoBrWl7ZdiBwRVmY3U3zjXijExXJR9pPZ2LWwp6/sK0f6DqUTGEoNIxgdNt/NY4Z2vX+vX8+IbnQTbKG/6oJUdiraG1fpFbaF+LoibkVx5166fEms2SwmJibM/JJpciBilIpjyC2hVjiH6VIF97hj2D12AIN3ZFFOVVCcu46YU8Sl+SvoHzqINCrGnM6M7MOTz34XZTeDUtUxDQ08EXIviEtMt4ZpEd7Fcs00VIAZxQszfjeocoyxiLBXL2lpGywwj4vL0uL1/HofYaepmJeteLU0P1hKQauPILLVpFfGxj7UAlYURek+elp8bfdb8ciimMvho7/9CDHXNaUmTV/eWAJZEd5rE9fwR2/+G7FO2V/Xw/kP/6Lez9dFjVakVzUVpNhD91cfvocqi2tw3uhD2H33ccxVRHDZ+SgQMRcLeKFYxeRCSaxlEWP2H6JlKs8rNc/Emk1LQ89UzhDd9YwAe3U3MwU4qFZNUlYYr66Px3XC6tLh85VbJ1qjdoWGSMuOTfNnFUVRlO6gO4caOeuRinBMK5dMyPIcu5vLLRrRo6il0ikz9peFNfL5nMl6TqUdE6+lyjom+FppWJJ+3XJNsfqUm0ZV3MoDh+6Clx1FoSYibRoyuChU2PCgiHLgGuFlKUuffQaNgRu2NgxMdrNfjwuHY20pyNVyxVjpjAWbClwmYQz1Lke+uRkIBXZlq3YjLuWGfRysZScriqIonaRrLd+WRTacSE0QVq0SSYlLbPfBY/fh4OgYEsFSD93HH3/CZBiz1jOtzzCz2F8qRGFrOi8TJse0P2DctSbx3ZNTfcgzzUlMa19Ee6GcwNRsUVzQocVcY6yWYk/3MuO69SIZtogGv4MRYFrD1Zp5vyqPLFnJlCy/VhZLPW1Ev5FAxc84K3z/cBfDfV6lgIa5KQncxvrCRyiKoihdQld2NSJGuFazgE3Nx9Bde8e+fXD27EbMCy1O0+827E5QX2e4Lr/ewSisHdla3JilHBNRzUks99RPr4iFC9h2BwtiWefKtFZd07HIWLqs6+xHE6tCwfNrXuhmppBXKqaARqO5L+PAso2htIusW13W3pD4foDV1DII1u9GtmvSJCxFUZTuoSdqO68mwlwiHqDeE1dcxwm3Hj+NCI4TWpOca/shtVIvK1R0QMdjcWM1Z5wYiiKGhUoRU4vzYvUm+K64jgMjuEZ0Gd+1cd5gKcnKr2c18xF+aB0HZlEftfICxgZT6A/ySMTc0DUcBJG9UBRFUbYrPZNwFdgMoxbja1zTYjAcM7uqRRgse1gV9sztl7hxnpnJbJQgVm+Z7mM/ISJaC4cR1UXVuJnrr/2625vWK13doQs6MO0DjVibRg8e+pMu9g8mcGAoiUwqYb6bFd/NJ0fVvQdQFEVRupGuFl9avMsaBPjRpgtL+b6NBvSRV8updyqynw2Dpi2WMhsx7umY4+OBUQ9T1+bgpoaxOCeu42oiXJcR21qjUIZZJ+sye7V6e8BwGY/WbxAKNC1lrxaO042LFf3AoSHclZjGoT0HkEwmgQ24krFGwwRT/SrwW35HRVEU5fbT1f18l3U4sl18Im0F17+im9cXdfAud/QGRjwZp73vjjHUChOiqwmUqxlUWfvZWLA1I24U1mqtAq9aRqUqjzXWcq5KPFgmee7VmAldMdnQRngDcYmLG/pQv4uHMrO4b3c/9u/fb5olrCWoG0VzrBRFUbqXrmwpGO3Is0ww667cda4JtwyHFcViGMhk8WuHRlDKXYfn1BCrhEIb1EIr1zdJVzVUKMBsZFCP//K5SciiG5rlJfkd5HW6soB7+wt45nACj+/xceK+Q8iIazvMuArMH8Nt44hcHdurKIrSnXSl27lVO7zQOg2WZUG3WqaRCryK9hq37JoVolwk3ABPHtuH84sXcfnGDZyrZlHh+F3GbevJVRzORCuXcWHXJk359YxnM8xIHiuLGEn349EDSdybnMDx0QweP/4g9gz1wXXrLuJwNLDdwU2hmc2KoijdTU9kO4cvwv/CcbnBUny3XvYpGgEO/CbxqYtxVNOcYG2F4yKppIc/PH4I4+kM/tun1/H5rINC1RXRdYytSvENmycwyYqiHFqvbs1DTKziYfn8kZEU7hxycF9/BScO78ODdx/A4PAI4kE1tIzrjRJsmpQTLL26aZ+w3CPQCifM3grXZapiOoCzSUVXFEVR2kZPlZdsDM1tJcrRl81WbeSls9I4I7T4SMDEK2A07eEPju/H4f1DOPn5FXx+ZR7nZn1MVJIoiMu5JnFdK/wcYzyWTmJfysEe8Sgf6HPl0cPB0SSOHdyHO3YPI52JGfGsSQyYH/Tr8Wy7o+E+riDA6zRql/Km7VhnKIqiKF1CjzdWCNY5b+M4dQvUuJJZvjIo4cQuF/eP7se1uSGcuTqDr6cLmJrzJObrmFKRbKbQL0d0LONhyK1id38Ce8cHMDY8jIHBASQTKcTirtlDYzHX/4Xba4xAXrN5wlpuZeOaX8dyiqIoyu2hh2s7bz0Bi3OY9n0xhH7rGlJxB0fG+3FoVOK/pSJm5/KolMWKNeUkfSRlmb5UTKzbPiRTGTiJGJyYE34nEwoO62y5TushUSFtGOnrONChRtsb9oi9cOGCec7HXukZqyhbwalTpxrPe+Fc6OrazrdThBvGp3nhhvFdx6nXTZY4qusjnY5h3+5sGBy2lmoQJk6xUUPgxs2YYd8JTCEQN+IM3vT+rRXzVTfztod9Yq34vvfee3jppZegKDuVXhPfrhtqtFImc8cxGsrmBBQycRGLRUspjYu7OGYKZ4SNE+iSZmA4EP80Q7i+mVxzZB3UEIOHuBFe4kSmW9ytdRwXNXh3BtHG8e+++y4UZSfz+uuvN56/8MIL6Ha6usjG7SI61jgsyMF4rNdS1RpN65seV8Jpg0mqsVyF8AIzPDxsnp88eRJvvfUWFGUnwt++9QKR6I1pt9Kd4tshcblJZDcwkWahjQrwStNm92v9Xw6a4rzNofC+/PLLjdevvfbaMtebouwE+Jvnb9/y6quvqtv5VrE1mJeLzuYFOVzv0mRymgPcNC25hZ36MkvTctfxrUwwMeJW221sv3lHm6bGSKQVpsZQpaDFeGdlW8E4r73QzM3N4ZlnnlELWNkx8LfO3zx/+4TnQlSIu5muLS958xvYPMGqmtYkwDw0reKzty684brrr4PVJqw5rbU19UzvDGj9vv/++8sEmNbw0aNH8fbbb6slrGw76F62osvfelR4eS70Cj1TXnJdn1vPMh1QpfWMw93yfYCq707BXnR4MYoOPXrxxRehKDsBew700nC7bZVwtVac1m8SvVuJqa43Hnz7WX+MWel9eNE5f/68iXcpyk6Bnh/+5j/66KOeG+fe4xWuepGg6XELtlAvudk9NwJKp2C8ixYvs5/pdqYFHM0CVZRehyLLMe5PPfWU+a3bjP9ewwm65ArN3ZidncXZs2dx6NAhxGIxMy0twP9Wt+T8Dbp7t+Krr7rOumXMUpJbfdS5/lq1hi++/BLH7rkHe/ftRTyp91qKoijdQM9cjRt9i4JGOm/r5Taoas3Lr+WqXa2lYXfhaNRXURSlS+kJ8Y0ON7JNA1Zabq31bGT59a7npveCtT4PRVEUZQfTO/18e4qVc43blQKlAq4oitK79JT42tftEuV2ZwMHvt0/83/rZbjdYHNFJv16c4dV9yUyqNl4Dvy6Ra4J0IqiKLednZmBs6VWY/eYpNG6HIqiKEr3sGPEt11Ws7VuV96O+R+KoiiKshLa1UhRFEVROkzXWr6tLNTNhnq16ISiKIrSDXSV+LYjAapVKtOG6xy3EukuL9UYzaUKmyItDcnSHCtFUZTuomvE1/a7ZVWrVmN5w8Td1UXUdPNpktpw3saw4rWsb688dx1nbSF3Gv/dPNs+X2unWIcaq2QnNx0L3/xnWx2Ftx+e7yMejzeOpzZaUBRF6R66Rnx930iIEQw+d5NJuO7ykHTYjm8VWjY2cG7J9LP62KyTQX34zvpWErYHpPBFLfLVdscWE3HDO4DWFnewXErjTmjxNyxeeR0XMa7VakilUuaYqvWrKIrSPXSV25lim06ncfnyZczMzKBUKhkhDoJ6LeRVxffWRLb1mm5eV0PUN5TN7Cx7aDwN1rmrwfrt1WjJSz6PJxLo7+/H4OAgkqmkLKC5dYqiKN1CV7mdKbwUi2q1inK5bCy25a7fVs3tew/zLbbSC+w6xkXePzCA3bt3I5POIBaPQVEURekOuqarEfE8z7hK+UgB5hTWc+a7KrzrXb/xOzv0JMSQFrdzQlz4sZi7XQ6hoihKz9NV4hslWCl+uw1wtvqIN9KcnXBbTov3FEVRlNtG14qvoiiKomxXNAtHURRFUTqMiq+iKIqidBgVX0VRFEXpMCq+iqIoitJhVHwVRVEUpcOo+CqKoihKh1HxVRRFUZQOo+KrKIqiKB1GxVdRFEVROoyKr6IoiqJ0GBVfRVEURekwKr5bzNzcHC5cuGAmy8mTJ5e9VhRFUXYWXdPP91Z4/fXXGyL23HPP4fnnn79pGb7P5cjw8DDeeOMN8/x73/ueeXzhhRfw9NNP4wc/+AF+9KMfLfssl3/kkUfw1FNP4ciRI8vee/nllzE/P7/idslbb72F1157zQgwef/99/H222+bbXGbfH3q1CmzHOG+cZuKomye6PVhJXh+v/TSS1gLnsOvvPKKef7qq6/edD1QlA0T9DAiYOzIZCY+b8WLL77YWEZOmMZ8O0+E8Kblmid+7p133lm2Xs7jeyKuLbc7Ozvb+LwIamP/RGDNPBFs81oEuLHc+fPnA0VR2kP0+rDStNJ1oxmem/YzPGcVZbP0tOUbha5cTrQoLbxb5byNQMuTVi3hXbN1EX/3u981lmp0/atBi9bCz/EOm3DdtJT1zllRthZaqPRskdOnT+PNN99szLfnn3qalNvFtor5vvfee8tev/vuuxuOrfJk5MnJ6fvf/74RTnuiWvf1WtC1bF1UhM8p3oQuZrq8o++3gvvNZY4ePYoTJ06Yz2icWFHWD2+UxaNlJoaHWs23ISPeLPMc28j5Zm/Kn3nmmWXnM2/YOZ/r4nu8HkThNYDzeT3hdvl8pW1G16XXgW1G0MNYtxLduvaR7l6LWJsNtzHW6XaOLmORO+bG8nb9q7mdOQ8tXNfR7Vh3Vyu3Mx/td2peh7qmFWXjRM+zZrfxRx991PJ84zy+R5rdzrwORK8r9rxsde5z4rXIEr0GNG+X67LXGLn5X7Yv0eucXgd6n21h+dKly7tZuplt8hLvGHlXSUt2pYSo9XL8+PHG8/XcdTKBg1azhdYzp/XCO2F+F+63nIiQE824z7htmyimKEp7oGXJ840eLnu+8ZrCeSudb7R0eT7yM9Y7xtdMsCT0nMn11ayL70UTKy28RvG8FoG/KdRFrMUcvQ7wOsdr2kbDaUr3sW3czlZg6Wom0R9uO+M6NnN5Nbi9aEyXz9cb440OS+K+86Tlaxsz1pNOUdqHPb8Ib5jtuWtFNPq+he5ijlgg77zzTuPctmEvroMiafNFVjp3OZ9xaD5SrC0cRdG8jxRuPlLoKcJ0mSu9zbZJuOIdJE8Y/kDtcB5CK7Q5FrxRoifDVidoRE/0lU4we8etKMrmiN5MR8+pZm9X9D0rorwWRK8Hdl18pPdqtW3Zz7d6buHQQ1rl3L61jAmvCzrcqffZNuLLHy9/lLyTtD9U3lFy2qz4WmuaP3Z7F7tVRE9C3om3OsH0pFOU9hA936Iiu1p4ictQSK1bujmkxHXSIl5tW+uB1xq6pCn2rEFAw4LPrWERDW0pvce2yna2GY32DnM9g+dbYV2//KHz5LI/9qhraKvgCWdPUg6PoPvKDm+iRd9cCERRlFuHQmrPt+hNug1b8f3m4YUUPXst4DXCxnJZjIfw+mNdz5x4HnPd0eGH64FxZU62OFB0qKNmPPc+28byJfbHzhPiVhOt+KNmWn8zdGt3Ks7CE5snHa14nrC8AND65kmtsR5FaR92aGH0fON5ZoXSjhNuht41CiqvNQx38cY/ev2h29kmgVo39UYtVWvp8ty3omvXFR06pfQm20p8CQWXP9B2JFrZ8pKdFF7CE5snLe++o/ElXiSisR9FUTbPrZ5vFFOOvY26n+luppDTW2bDVXZdG72GrLYuvQ70Pg7HG0HpWqx7qTm5Q1GU9mPPt83mVdiYcLetS+keVHwVRVEUpcNoS0FFURRF6TAqvoqiKIrSYVR8FUVRFKXDqPgqiqIoSodR8VUURVGUDqPiqyiKoigdRsVXURRFUTqMiq+iKIqidBgVX0VRFEXpMCq+iqIoitJhVHwVRVEUpcOo+CqKoihKh1HxVRRFUZQOo+KrKIqiKB1GxVdRFEVROoyKr6IoiqJ0GBVfRVEURekwKr6KoiiK0mFUfBVFURSlw/w/he2FHnKcA80AAAAASUVORK5CYII=)"
      ],
      "metadata": {
        "id": "C5pEdpdCCKjL"
      }
    },
    {
      "cell_type": "markdown",
      "source": [
        "### First approach to tokenization\n",
        "Tokenization is probably one of the most important steps in the process.\n",
        "\n",
        "Our first approach to tokenization used an intermediate *string representation* for notes obtained in the following way:\n",
        "\n",
        "\"`<NOTE>`-`<DURATION>`\", where `NOTE` represents the note in [letter notation](https://en.wikipedia.org/wiki/Letter_notation) followed by the octave of the note, and `DURATION` represents the duration in seconds.\n",
        "\n",
        "*Example*: \"C4-1.0, C4-1.0, G4-1.0, G4-1.0, A4-1.0, A4-1.0, G4-2.0, F4-1.0, F4-1.0, E4-1.0, E4-1.0, D4-1.0, D4-1.0, C4-2.0, G4-1.0, G4-1.0, F4-1.0, F4-1.0, E4-1.0, E4-1.0, D4-2.0, G4-1.0, G4-1.0, F4-1.0, F4-1.0, E4-1.0, E4-1.0, D4-2.0\"\n",
        "\n",
        "As can be easily deduced, this type of tokenization does not allow for a complete representation of MIDI files. For example, it cannot represent simultaneous or overlapping notes (polyphony) or other MIDI events such as tempo changes. However, it also has an advantage over other tokenization methods: its “1 token = 1 note” correspondence. This makes it much easier for the model to learn how to generate token sequences that produce valid notes, instead of “garbage” tokens that cannot be converted into valid MIDI.\n",
        "\n",
        "\n",
        "**Since this method appears to perform worse than Miditok, it will not be used as the main tokenizer in this notebook.**"
      ],
      "metadata": {
        "id": "OhgfVN3_-XMw"
      }
    },
    {
      "cell_type": "code",
      "source": [
        "STRING_TOKENIZATION = False\n",
        "if STRING_TOKENIZATION:\n",
        "  def find_midi_files(directory):\n",
        "      \"\"\"Recursively finds all MIDI files in the directory.\"\"\"\n",
        "      midi_files = []\n",
        "      for root, _, files in os.walk(directory):\n",
        "          for file in files:\n",
        "              if file.endswith((\".mid\", \".midi\")):\n",
        "                  midi_files.append(os.path.join(root, file))\n",
        "      return midi_files\n",
        "\n",
        "  def midi_to_note_representation(file_path):\n",
        "      \"\"\"Converts a MIDI file into a note-duration representation.\"\"\"\n",
        "      try:\n",
        "          midi_data = pretty_midi.PrettyMIDI(file_path)\n",
        "          note_events = []\n",
        "\n",
        "          for instrument in midi_data.instruments:\n",
        "              for note in instrument.notes:\n",
        "                  # Convert pitch to note name\n",
        "                  note_name = pretty_midi.note_number_to_name(note.pitch)\n",
        "                  duration = note.end - note.start\n",
        "                  note_events.append(f\"{note_name}-{duration:.1f}\")\n",
        "\n",
        "          return \", \".join(note_events)\n",
        "      except Exception as e:\n",
        "          print(f\"Error in file conversion {file_path}: {e}\")\n",
        "          return None\n",
        "\n",
        "  def create_dataset_from_midi(midi_files, output_file):\n",
        "      \"\"\"Creates a JSON dataset with the representation of notes from MIDI files.\"\"\"\n",
        "      dataset = {}\n",
        "\n",
        "      for midi_file in tqdm(midi_files):\n",
        "          note_representation = midi_to_note_representation(midi_file)\n",
        "          if note_representation:\n",
        "              dataset[midi_file] = note_representation\n",
        "\n",
        "      with open(output_file, \"w\") as json_file:\n",
        "          json.dump(dataset, json_file, indent=4)\n",
        "\n",
        "      print(f\"Dataset created and saved in {output_file}\")\n",
        "\n",
        "  output_dataset_file = \"midi_dataset.json\"\n",
        "\n",
        "  string_midis = [str(midi) for midi in midis]\n",
        "  create_dataset_from_midi(string_midis, output_dataset_file)\n",
        "\n",
        "  dataset_file = \"midi_dataset.json\"\n",
        "\n",
        "  with open(dataset_file, \"r\") as json_file:\n",
        "      dataset = json.load(json_file)\n",
        "      maestro_dataset = list(dataset.values())\n",
        "\n",
        "  tokenizer = Tokenizer(filters=\"\", lower=False, split=\",\")\n",
        "  tokenizer.fit_on_texts(maestro_dataset)\n",
        "  tokenized_melodies = tokenizer.texts_to_sequences(maestro_dataset)"
      ],
      "metadata": {
        "id": "rcjhLsIt-WAH"
      },
      "execution_count": null,
      "outputs": []
    },
    {
      "cell_type": "markdown",
      "source": [
        "### MidiTok\n",
        "\n",
        "The MidiTok library provides predefined tokenization methods (e.g. **REMI**) to translate MIDI events into tokens and vice versa, ensuring a structured and efficient representation of musical data.\n",
        "\n",
        "Compared to the previous tokenization method, MidiTok allows for a more comprehensive translation of MIDI events into tokens, with less information loss."
      ],
      "metadata": {
        "id": "IgkoM4Hg_rD3"
      }
    },
    {
      "cell_type": "code",
      "source": [
        "# BEAT_RES defines the temporal resolution for tokenizing MIDI events,\n",
        "# mapping beat intervals to the number of subdivisions per beat.\n",
        "BEAT_RES = {(0, 1): 12, (1, 2): 4, (2, 4): 2, (4, 8): 1}\n",
        "\n",
        "TOKENIZER_PARAMS = {\n",
        "    \"pitch_range\": (21, 109),  # ranges of possible pitches\n",
        "    \"beat_res\": BEAT_RES,\n",
        "    \"num_velocities\": 24,      # number of possible velocities for notes\n",
        "    \"special_tokens\": [\"PAD\", \"BOS\", \"EOS\"], # special tokens\n",
        "    \"use_chords\": True,\n",
        "    \"use_rests\": True,\n",
        "    \"use_tempos\": True,\n",
        "    \"use_time_signatures\": True,\n",
        "    \"use_programs\": False,     # no multitrack\n",
        "    \"num_tempos\": 32,          # number of possible tempos for notes\n",
        "    \"tempo_range\": (50, 200),  # (min_tempo, max_tempo)\n",
        "}\n",
        "\n",
        "config = TokenizerConfig(**TOKENIZER_PARAMS)\n",
        "\n",
        "# REMI is only one of the tokenization method available in MidiTok\n",
        "# Here this one is used since it's been proven to work effectively\n",
        "tokenizer = REMI(config)"
      ],
      "metadata": {
        "id": "40PhMXS6uXME"
      },
      "execution_count": null,
      "outputs": []
    },
    {
      "cell_type": "markdown",
      "source": [
        "### (Optional): train the tokenizer\n",
        "\n",
        "One of the features that MidiTok offers is the **training of a tokenizer**.\n",
        "Taken from MidiTok's documentation:\n",
        "\n",
        "> Training a tokenizer consists in populating the vocabulary with new tokens representing successions of these basic tokens, that will be fetched from a training corpus. [...] For symbolic music, training the tokenizer allows to **increase both the model’s performances and efficiency**.\n",
        "\n",
        "In order to do that, MidiTok uses algorithms like **Byte Pair Encoding (BPE)** to \"pack\" groups of tokens that appear frequently in the dataset into new tokens of the vocabulary.\n",
        "\n",
        "The explanation for why this technique can improve the model’s performance is quite simple: the model’s “effort” in generating meaningful token sequences is reduced. Instead of learning to produce multiple “correct” tokens in sequence, it can directly produce a single token that corresponds to that sequence of MIDI events."
      ],
      "metadata": {
        "id": "juVWqNWivsO-"
      }
    },
    {
      "cell_type": "code",
      "source": [
        "# @title Manually train the tokenizer\n",
        "TRAIN_TOKENIZER = False # @param { type: 'boolean' }"
      ],
      "metadata": {
        "cellView": "form",
        "id": "HtrErkuCRDeZ"
      },
      "execution_count": null,
      "outputs": []
    },
    {
      "cell_type": "code",
      "source": [
        "if TRAIN_TOKENIZER:\n",
        "  tokenizer.train(vocab_size=30000, files_paths=midis)\n",
        "  processed = [Path(f\"{s}\") for s in midis]\n",
        "  print(len(processed))"
      ],
      "metadata": {
        "id": "xN1YBCa_vqnl"
      },
      "execution_count": null,
      "outputs": []
    },
    {
      "cell_type": "markdown",
      "source": [
        "### Load a trained tokenizer\n",
        "\n",
        "To avoid re-training a tokenizer from scratch, here we provide an already trained one."
      ],
      "metadata": {
        "id": "5qLDUEVuvjJW"
      }
    },
    {
      "cell_type": "code",
      "source": [
        "!gdown 1SDRkoWwyuSl4udoCHdcitjLLm9d0kfxS\n",
        "tokenizer = REMI(params=Path(\"maestro_tokenizer.json\"))\n",
        "print(f\"Vocab size: {len(tokenizer)}\")"
      ],
      "metadata": {
        "id": "qloz4kvDvmQL"
      },
      "execution_count": null,
      "outputs": []
    },
    {
      "cell_type": "markdown",
      "source": [
        "## Dataset preparation\n",
        "\n",
        "In the following cells we prepare the dataset for training by splitting it into Train, Validation and Test sets. In addition, we exploit some methods made available by MidiTok to perform data augmentation."
      ],
      "metadata": {
        "id": "o5zPO14qxr7e"
      }
    },
    {
      "cell_type": "markdown",
      "source": [
        "### Download the clean data\n",
        "\n",
        "If you want to skip all the data preparation, here we provide the data already cleaned and tokenized, in the form of numpy arrays."
      ],
      "metadata": {
        "id": "4uKf1ypSNsCc"
      }
    },
    {
      "cell_type": "code",
      "source": [
        "!gdown 1IQToXD9s8g4L-AlK-MY4qvGoLZ-p7bMw\n",
        "!gdown 1DWjViUKpW07LfbGimlhhhGdK7oQaJpj-\n",
        "\n",
        "all_ids_train = np.loadtxt(\"all_ids_maestro_train.txt\").astype(np.int32)\n",
        "all_ids_valid = np.loadtxt(\"all_ids_maestro_valid.txt\").astype(np.int32)"
      ],
      "metadata": {
        "id": "91VCDP68x8jM"
      },
      "execution_count": null,
      "outputs": []
    },
    {
      "cell_type": "code",
      "source": [
        "# @title ### (Optional): skip all the data preparation\n",
        "SKIP_DATA_PREPARATION = True # @param { type: 'boolean' }"
      ],
      "metadata": {
        "cellView": "form",
        "id": "Ua0tda06Qu5v"
      },
      "execution_count": null,
      "outputs": []
    },
    {
      "cell_type": "code",
      "source": [
        "if not SKIP_DATA_PREPARATION:\n",
        "\n",
        "  total_num_files = len(processed)\n",
        "  num_files_valid = round(total_num_files * 0.15)\n",
        "  num_files_test = round(total_num_files * 0.15)\n",
        "  shuffle(processed)\n",
        "  midi_paths_valid = processed[:num_files_valid]\n",
        "  midi_paths_test = processed[num_files_valid:num_files_valid + num_files_test]\n",
        "  midi_paths_train = processed[num_files_valid + num_files_test:]\n",
        "\n",
        "  # Chunk MIDIs and perform data augmentation on each subset independently\n",
        "\n",
        "  for files_paths, subset_name in (\n",
        "      (midi_paths_train, \"train\"),\n",
        "      (midi_paths_valid, \"valid\"),\n",
        "        (midi_paths_test, \"test\")\n",
        "  ):\n",
        "      # Split the MIDIs into chunks of sizes approximately about 1024 tokens\n",
        "      subset_chunks_dir = Path(f\"Maestro_{subset_name}\")\n",
        "\n",
        "      split_files_for_training(\n",
        "          files_paths=files_paths,\n",
        "          tokenizer=tokenizer,\n",
        "          save_dir=subset_chunks_dir,\n",
        "          max_seq_len=1024,\n",
        "          num_overlap_bars=2,\n",
        "      )\n",
        "\n",
        "      # Perform data augmentation (generates new MIDI files with notes modified\n",
        "      # by adding the related pitch, velocity and duration offsets)\n",
        "      augment_dataset(\n",
        "          subset_chunks_dir,\n",
        "          pitch_offsets=[-12, 12],\n",
        "          velocity_offsets=[-4, 4],\n",
        "          duration_offsets=[-0.5, 0.5],\n",
        "      )\n",
        "  midi_paths_train = list(Path(\"Maestro_train\").glob(\"**/*.mid\")) + list(Path(\"Maestro_train\").glob(\"**/*.midi\"))\n",
        "  midi_paths_valid = list(Path(\"Maestro_valid\").glob(\"**/*.mid\")) + list(Path(\"Maestro_valid\").glob(\"**/*.midi\"))\n",
        "  midi_paths_test = list(Path(\"Maestro_test\").glob(\"**/*.mid\")) + list(Path(\"Maestro_test\").glob(\"**/*.midi\"))\n"
      ],
      "metadata": {
        "id": "sm6iZq4uxhKx"
      },
      "execution_count": null,
      "outputs": []
    },
    {
      "cell_type": "markdown",
      "source": [
        "### Tokenization\n",
        "\n",
        "Here we tokenize the augmented dataset into JSON files containing the IDs of the tokens."
      ],
      "metadata": {
        "id": "3_wh6YxxP2uR"
      }
    },
    {
      "cell_type": "code",
      "source": [
        "if not SKIP_DATA_PREPARATION:\n",
        "  def midi_valid(midi) -> bool:\n",
        "      if any(ts.numerator != 4 for ts in midi.time_signature_changes):\n",
        "          return False  # time signature different from 4/*, 4 beats per bar\n",
        "      return True\n",
        "\n",
        "  if os.path.exists(\"tokenized\"):\n",
        "    shutil.rmtree(\"tokenized\")\n",
        "\n",
        "  for dir in (\"train\", \"valid\", \"test\"):\n",
        "      tokenizer.tokenize_dataset(\n",
        "          Path(f\"Maestro_{dir}\").resolve(),\n",
        "          Path(f\"tokenized_{dir}\").resolve(),\n",
        "          midi_valid,\n",
        "      )"
      ],
      "metadata": {
        "id": "BfuMgF_syIB_"
      },
      "execution_count": null,
      "outputs": []
    },
    {
      "cell_type": "markdown",
      "source": [
        "### Read JSON files\n",
        "\n",
        "Here we read the produced JSON files containing MidiTok tokenization's output."
      ],
      "metadata": {
        "id": "VzcMG0oSQqZy"
      }
    },
    {
      "cell_type": "code",
      "source": [
        "if not SKIP_DATA_PREPARATION:\n",
        "  def read_json(path: str) -> dict:\n",
        "    with open(path, \"r\") as f:\n",
        "      return json.load(f)\n",
        "\n",
        "  def read_json_files(json_file_paths):\n",
        "      \"\"\"Reads a list of JSON files and returns a list of objects.\n",
        "      Args:\n",
        "          json_file_paths: A list of file paths to JSON files.\n",
        "      Returns:\n",
        "          A list of objects, where each object represents the data from a JSON file.\n",
        "          Returns an empty list if any error occurs during file processing.\n",
        "      \"\"\"\n",
        "      objects = []\n",
        "\n",
        "      for file_path in tqdm(json_file_paths):\n",
        "          try:\n",
        "              objects.append(read_json(file_path))\n",
        "          except FileNotFoundError:\n",
        "              print(f\"Error: File not found - {file_path}\")\n",
        "              return []\n",
        "          except json.JSONDecodeError:\n",
        "              print(f\"Error decoding JSON in file: {file_path}\")\n",
        "              return []\n",
        "      return objects\n",
        "\n",
        "  tokenized_train = list(Path(\"tokenized_train\").resolve().glob(\"**/*.json\"))\n",
        "  data_objects_train = read_json_files(tokenized_train)\n",
        "\n",
        "  tokenized_valid = list(Path(\"tokenized_valid\").resolve().glob(\"**/*.json\"))\n",
        "  data_objects_valid = read_json_files(tokenized_valid)\n",
        "\n",
        "  tokenized_test = list(Path(\"tokenized_test\").resolve().glob(\"**/*.json\"))\n",
        "  data_objects_test = read_json_files(tokenized_test)\n",
        "\n",
        "\n",
        "  if data_objects_train and data_objects_valid and data_objects_test:\n",
        "      print(f\"\\nSuccessfully read {len(data_objects_train)} training JSON files.\")\n",
        "      print(f\"Successfully read {len(data_objects_valid)} validation JSON files.\")\n",
        "      print(f\"Successfully read {len(data_objects_test)} test JSON files.\")\n",
        "  else:\n",
        "      print(\"Error reading JSON files.\")"
      ],
      "metadata": {
        "id": "8Csa3vMqyWs-"
      },
      "execution_count": null,
      "outputs": []
    },
    {
      "cell_type": "markdown",
      "source": [
        "### Concatenate all IDs into a numpy array\n",
        "\n",
        "Instead of working with padded songs (where each MIDI file, translated into tokens, is padded with a special padding token to reach a fixed length), we adopt a different approach. The token IDs of all piano pieces are concatenated into a single, large NumPy array.\n",
        "\n",
        "While this method has clear drawbacks — such as reduced musical coherence when feeding the data into the model and a diminished sense of a song “as a whole” — it offers significantly greater flexibility in managing the data."
      ],
      "metadata": {
        "id": "OCiqqL_jRcBS"
      }
    },
    {
      "cell_type": "code",
      "source": [
        "if not SKIP_DATA_PREPARATION:\n",
        "  encoded_train = [np.array(song[\"ids\"][0]) for song in data_objects_train]\n",
        "  encoded_valid = [np.array(song[\"ids\"][0]) for song in data_objects_valid]\n",
        "  encoded_test = [np.array(song[\"ids\"][0]) for song in data_objects_test]\n",
        "\n",
        "  all_ids_train = np.concatenate(encoded_train)\n",
        "  all_ids_valid = np.concatenate(encoded_valid)\n",
        "  all_ids_test = np.concatenate(encoded_test)"
      ],
      "metadata": {
        "id": "S9OWP1BO0BjZ"
      },
      "execution_count": null,
      "outputs": []
    },
    {
      "cell_type": "markdown",
      "source": [
        "### Create Tensorflow Dataset\n",
        "\n",
        "The numpy array is converted into a Tensorflow dataset..."
      ],
      "metadata": {
        "id": "5sULb9Yg0PGE"
      }
    },
    {
      "cell_type": "code",
      "source": [
        "ids_dataset_train = tf.data.Dataset.from_tensor_slices(all_ids_train)\n",
        "ids_dataset_valid = tf.data.Dataset.from_tensor_slices(all_ids_valid)"
      ],
      "metadata": {
        "id": "lg-t03RY0NxY"
      },
      "execution_count": null,
      "outputs": []
    },
    {
      "cell_type": "markdown",
      "source": [
        "### Convert into sequences\n",
        "\n",
        "...and then split into sequences of fixed size (i.e. `SEQ_LENGTH`).\n",
        "\n",
        "The reason why `SEQ_LENGTH + 1` is used will be explained in the next cell."
      ],
      "metadata": {
        "id": "btOrQBpw0lnS"
      }
    },
    {
      "cell_type": "code",
      "source": [
        "SEQ_LENGTH = 1024\n",
        "\n",
        "sequences_train = ids_dataset_train.batch(SEQ_LENGTH+1, drop_remainder=True)\n",
        "sequences_valid = ids_dataset_valid.batch(SEQ_LENGTH+1, drop_remainder=True)"
      ],
      "metadata": {
        "id": "_s_7NJhs0jl-"
      },
      "execution_count": null,
      "outputs": []
    },
    {
      "cell_type": "markdown",
      "source": [
        "### Preparing labels\n",
        "\n",
        "In order to feed data into the model for training, we need to prepare the **labels**.\n",
        "\n",
        "Since the model we are going to use works using **logits** and predicting the next token of the sequence, the *input sequence* - the X - is the sequence obtained by excluding the last token (i.e. `sequence[:-1]`) while the *target sequence* - the Y - is the same sequence shifted forward by 1 (i.e. `sequence[1:]`).\n",
        "\n",
        "This is why, in order to maintain a sequence length of `SEQ_LENGTH`, we previously prepared sequences by adding that extra token."
      ],
      "metadata": {
        "id": "_BgCctUj0v4g"
      }
    },
    {
      "cell_type": "code",
      "source": [
        "def split_input_target(sequence):\n",
        "    input_seq = tf.cast(sequence[:-1], tf.int32)\n",
        "    target_seq = tf.cast(sequence[1:], tf.int32)\n",
        "    return input_seq, target_seq\n",
        "\n",
        "train_ds = sequences_train.map(split_input_target)\n",
        "valid_ds = sequences_valid.map(split_input_target)"
      ],
      "metadata": {
        "id": "2Gtbw2330yTg"
      },
      "execution_count": null,
      "outputs": []
    },
    {
      "cell_type": "markdown",
      "source": [
        "### Create training batches\n",
        "\n",
        "Similarly to how we created the sequences, we now create the final datasets creating the **batches**.\n",
        "\n",
        "*Note:* Buffer size is used by Tensorflow when shuffling the dataset. Taken from Tensorflow:\n",
        "\n",
        "> TF data is designed to work with possibly infinite sequences, so it doesn't attempt to shuffle the entire sequence in memory. Instead, it maintains a buffer in which it shuffles elements."
      ],
      "metadata": {
        "id": "piszzuBy03qE"
      }
    },
    {
      "cell_type": "code",
      "source": [
        "BATCH_SIZE = 16\n",
        "BUFFER_SIZE = 10000\n",
        "\n",
        "train_ds = (\n",
        "    train_ds\n",
        "    .shuffle(BUFFER_SIZE)\n",
        "    .batch(BATCH_SIZE, drop_remainder=True)\n",
        "    .prefetch(tf.data.experimental.AUTOTUNE))\n",
        "valid_ds = (\n",
        "    valid_ds\n",
        "    .shuffle(BUFFER_SIZE)\n",
        "    .batch(BATCH_SIZE, drop_remainder=True)\n",
        "    .prefetch(tf.data.experimental.AUTOTUNE))"
      ],
      "metadata": {
        "id": "xwJsixAK0-5g"
      },
      "execution_count": null,
      "outputs": []
    },
    {
      "cell_type": "markdown",
      "source": [
        "## Building Model"
      ],
      "metadata": {
        "id": "LM9y_1cb15gc"
      }
    },
    {
      "cell_type": "code",
      "source": [
        "from transformers import TFAutoModelForCausalLM, MistralConfig\n",
        "\n",
        "# Define the model configuration\n",
        "model_config = MistralConfig(\n",
        "    vocab_size=len(tokenizer),\n",
        "    hidden_size=512,\n",
        "    intermediate_size=1024,\n",
        "    num_hidden_layers=8,\n",
        "    num_attention_heads=8,\n",
        "    num_key_value_heads=4,\n",
        "    sliding_window=256,\n",
        "    max_position_embeddings=8192,\n",
        "    pad_token_id=tokenizer['PAD_None'],\n",
        "    bos_token_id=tokenizer['BOS_None'],\n",
        "    eos_token_id=tokenizer['EOS_None'],\n",
        ")\n",
        "\n",
        "# Initialize the TensorFlow model\n",
        "model = TFAutoModelForCausalLM.from_config(model_config)\n",
        "loss = tf.losses.SparseCategoricalCrossentropy(from_logits=True)\n",
        "model.compile(loss=loss,\n",
        "              optimizer=\"adam\",\n",
        "              weighted_metrics=[\"sparse_categorical_accuracy\"],\n",
        "              jit_compile=True,\n",
        "              )"
      ],
      "metadata": {
        "id": "2RJveLYx1-MW"
      },
      "execution_count": null,
      "outputs": []
    },
    {
      "cell_type": "markdown",
      "source": [
        "## Train"
      ],
      "metadata": {
        "id": "4hx8o0IS26QU"
      }
    },
    {
      "cell_type": "code",
      "source": [
        "!gdown 1qoTIkmhmj0z4854FFofz02KLk5DnyqB1\n",
        "!unzip NESGEN_Maestro15.zip\n",
        "\n",
        "model.from_pretrained(\"nesgen-maestro0612\")"
      ],
      "metadata": {
        "id": "xLU0o0qo3FT2"
      },
      "execution_count": null,
      "outputs": []
    },
    {
      "cell_type": "markdown",
      "source": [
        "### (Optional): Train model\n",
        "Training of this model is made optional, free colab does not allow for this training."
      ],
      "metadata": {
        "id": "fgYg8Jx43cF7"
      }
    },
    {
      "cell_type": "code",
      "source": [
        "TRAIN = False\n",
        "if TRAIN:\n",
        "  EPOCHS = 15\n",
        "\n",
        "  history = model.fit(\n",
        "      train_ds,\n",
        "      epochs=EPOCHS,\n",
        "      validation_data=valid_ds,\n",
        "  )"
      ],
      "metadata": {
        "id": "-uRSJ2Ci2RNG"
      },
      "execution_count": null,
      "outputs": []
    },
    {
      "cell_type": "markdown",
      "source": [
        "## Generation"
      ],
      "metadata": {
        "id": "ccD0NCuj3VAB"
      }
    },
    {
      "cell_type": "markdown",
      "source": [
        "### Select a seed from the test set"
      ],
      "metadata": {
        "id": "5J6ZmFEb3xXS"
      }
    },
    {
      "cell_type": "code",
      "source": [
        "def get_seed():\n",
        "    for seed_ids, _ in valid_ds.take(1):\n",
        "      seed = seed_ids\n",
        "    return seed[0]"
      ],
      "metadata": {
        "id": "RS4h5gPO3XDx"
      },
      "execution_count": null,
      "outputs": []
    },
    {
      "cell_type": "markdown",
      "source": [
        "### Generate and dump MIDI\n"
      ],
      "metadata": {
        "id": "rD4SVzUg34fo"
      }
    },
    {
      "cell_type": "code",
      "source": [
        "dump_seed = False\n",
        "\n",
        "seed = get_seed()\n",
        "input_ids = tf.convert_to_tensor(seed)  # Assuming seed is a 1D tensor of token IDs\n",
        "input_ids = tf.expand_dims(input_ids, 0)  # Add an extra dimension to represent batch size\n",
        "\n",
        "if dump_seed:\n",
        "    midi = tokenizer.decode([seed])\n",
        "    midi.dump_midi(\"seed.mid\")\n",
        "\n",
        "# Generate continuation\n",
        "outputs = model.generate(\n",
        "    input_ids=input_ids,\n",
        "    max_new_tokens=256,  # Maximum length of generated sequence\n",
        "    num_return_sequences=1,  # Number of sequences to return\n",
        "    do_sample=True,  # Use sampling (True) or greedy decoding (False)\n",
        "    temperature=0.7  # Sampling temperature (lower is more conservative)\n",
        ")\n",
        "\n",
        "input_length = input_ids.shape[1]\n",
        "generated_tokens = outputs[:, input_length:] # skip seed\n",
        "\n",
        "# Decode and print the generated text\n",
        "generated = tokenizer.decode([generated_tokens[0]])\n",
        "generated.dump_midi(\"nesgen-generation.mid\")"
      ],
      "metadata": {
        "id": "Z-QHjABf36-i"
      },
      "execution_count": null,
      "outputs": []
    },
    {
      "cell_type": "markdown",
      "source": [
        "# Fine tuning with NesDB\n",
        "The purpose of the project is to generate music similar to that of the old NES console games.\n",
        "\n",
        "Consequently, it is necessary to perform fine tuning of the model trained on master using the NesDB dataset"
      ],
      "metadata": {
        "id": "lFZi9LcA_1XH"
      }
    },
    {
      "cell_type": "markdown",
      "source": [
        "## Download Dataset"
      ],
      "metadata": {
        "id": "TbvNoPNlB7u5"
      }
    },
    {
      "cell_type": "code",
      "source": [
        "%%capture\n",
        "!gdown 1gIli7G1wu0QWDLzRc-CPWB8C4Hu0XVn3\n",
        "!unzip nesmdb_midi.zip\n",
        "!rm nesmdb_midi.zip"
      ],
      "metadata": {
        "id": "KZTGNGrN7pbn"
      },
      "execution_count": null,
      "outputs": []
    },
    {
      "cell_type": "markdown",
      "source": [
        "## Tokenizer"
      ],
      "metadata": {
        "id": "S7ummndsDUDb"
      }
    },
    {
      "cell_type": "code",
      "source": [
        "%%capture\n",
        "!gdown 1ul-khIle1ue9oUGqb1Z7qHxk7LSuxrWw\n",
        "tokenizer = REMI(params=Path(\"nes_tokenizer.json\"))\n",
        "print(f\"Vocab size: {len(tokenizer)}\")"
      ],
      "metadata": {
        "id": "IPWjemgFDXAO"
      },
      "execution_count": null,
      "outputs": []
    },
    {
      "cell_type": "markdown",
      "source": [
        "## Data preparation"
      ],
      "metadata": {
        "id": "ejUZEMMjB-uS"
      }
    },
    {
      "cell_type": "code",
      "source": [
        "# Download the files\n",
        "!gdown 1iVwuKKT2sIezyVIDB9STL--FYZf0XcxF # train\n",
        "!gdown 1FoOC3x4GbdDe0fwlzE1Zs8fqZXyFQCIA # valid"
      ],
      "metadata": {
        "id": "R0RoGGijCCZs"
      },
      "execution_count": null,
      "outputs": []
    },
    {
      "cell_type": "code",
      "source": [
        "all_ids_train = np.loadtxt(\"all_ids_nes_train.txt\").astype(np.int32)\n",
        "all_ids_valid = np.loadtxt(\"all_ids_nes_valid.txt\").astype(np.int32)"
      ],
      "metadata": {
        "id": "C2XOHhebCEeH"
      },
      "execution_count": null,
      "outputs": []
    },
    {
      "cell_type": "markdown",
      "source": [
        "### (Optional): complete data preparation"
      ],
      "metadata": {
        "id": "1UwEgVWBCaak"
      }
    },
    {
      "cell_type": "code",
      "source": [
        "if not SKIP_DATA_PREPARATION:\n",
        "  nesmdb_paths = list(Path(\"nesmdb_midi\").resolve().glob(\"**/*.mid\")) + list(Path(\"nesmdb_midi\").resolve().glob(\"**/*.midi\"))\n",
        "\n",
        "  nesmdb_dir = \"nesmdb\"\n",
        "  os.makedirs(nesmdb_dir, exist_ok=True)\n",
        "\n",
        "  for i, midi_path in enumerate(nesmdb_paths):\n",
        "    new_midi_path = os.path.join(nesmdb_dir, f\"{i}.midi\")\n",
        "    shutil.move(str(midi_path), new_midi_path)\n",
        "\n",
        "  nes_midis = list(Path(\"nesmdb\").resolve().glob(\"**/*.mid\")) + list(Path(\"nesmdb\").resolve().glob(\"**/*.midi\"))\n",
        "  string_midis = [str(midi) for midi in nes_midis]"
      ],
      "metadata": {
        "id": "1kjFnpzHA_Jw"
      },
      "execution_count": null,
      "outputs": []
    },
    {
      "cell_type": "markdown",
      "source": [
        "#### Filter short pieces"
      ],
      "metadata": {
        "id": "0j5VhARILBvK"
      }
    },
    {
      "cell_type": "code",
      "source": [
        "if not SKIP_DATA_PREPARATION:\n",
        "  min_length_seconds = 30\n",
        "\n",
        "  def transform(file: str) -> pretty_midi.PrettyMIDI:\n",
        "    try:\n",
        "      midi = pretty_midi.PrettyMIDI(file)\n",
        "      if midi.get_end_time() < min_length_seconds:\n",
        "        return None\n",
        "      return file\n",
        "    except Exception as e:\n",
        "      print(f\"There was an error: {e}\")\n",
        "      return None\n",
        "\n",
        "  pretty_midis = list([x for x in tqdm(map(transform, string_midis)) if x is not None])\n",
        "  print(f\"Discarded {len(string_midis) - len(pretty_midis)} files\")"
      ],
      "metadata": {
        "id": "Gfs3j_MXK0gh"
      },
      "execution_count": null,
      "outputs": []
    },
    {
      "cell_type": "markdown",
      "source": [
        "#### MIDI cleaning"
      ],
      "metadata": {
        "id": "vhVubVrKLh-r"
      }
    },
    {
      "cell_type": "code",
      "source": [
        "if not SKIP_DATA_PREPARATION:\n",
        "  TRACK_MIN_DENSITY_PERC = 0.20\n",
        "  MIN_VELOCITY = 20\n",
        "  MIN_NOTE_LENGTH = 0.05  # Minimum note length in seconds, adjust as needed\n",
        "  VALID_TIME_UNIT = 0.1   # Notes will be adjusted to this multiple\n",
        "\n",
        "  def is_excluded(track_name):\n",
        "      \"\"\"\n",
        "      Exclusion criteria for MIDI tracks\n",
        "      \"\"\"\n",
        "      exclude_keywords = [\"drum\", \"effect\", \"percussion\", \"no\", \"tr\"]\n",
        "      return any(keyword.lower() in track_name.lower() for keyword in exclude_keywords)\n",
        "\n",
        "  def round_to_unit(value, unit):\n",
        "      \"\"\"\n",
        "      Rounds a value to the nearest multiple of a given unit.\n",
        "      \"\"\"\n",
        "      return round(value / unit) * unit\n",
        "\n",
        "  def merge_tracks_to_single_instrument(input_file, output_file, target_channel=0):\n",
        "      midi_data = pretty_midi.PrettyMIDI(input_file)\n",
        "      merged_midi = pretty_midi.PrettyMIDI()\n",
        "      merged_instrument = pretty_midi.Instrument(\n",
        "          program=pretty_midi.instrument_name_to_program('Acoustic Grand Piano'), is_drum=False\n",
        "      )\n",
        "\n",
        "      mean_notes = sum(len(instrument.notes) for instrument in midi_data.instruments) / len(midi_data.instruments)\n",
        "\n",
        "      for instrument in midi_data.instruments:\n",
        "          track_name = instrument.name\n",
        "\n",
        "          # Exclude drum instruments or effect instruments\n",
        "          if instrument.is_drum or is_excluded(track_name):\n",
        "              print(\"Excluding track: \", track_name)\n",
        "              continue\n",
        "\n",
        "          # Exclude instruments that have a low number of notes\n",
        "          if len(instrument.notes) / mean_notes < TRACK_MIN_DENSITY_PERC:\n",
        "              continue\n",
        "\n",
        "          for note in instrument.notes:\n",
        "              # Adjust note duration if it's too short\n",
        "              note_duration = note.end - note.start\n",
        "              if note_duration < MIN_NOTE_LENGTH:\n",
        "                  continue\n",
        "\n",
        "              # Optionally round to a valid time unit\n",
        "              note.end = round_to_unit(note.end, VALID_TIME_UNIT)\n",
        "\n",
        "              # Enforce minimum velocity\n",
        "              note.velocity = max(note.velocity, MIN_VELOCITY)\n",
        "              merged_instrument.notes.append(note)\n",
        "\n",
        "      # Sort notes by start time\n",
        "      merged_instrument.notes.sort(key=lambda note: note.start)\n",
        "      merged_midi.instruments.append(merged_instrument)\n",
        "\n",
        "      # Transfer tempo changes\n",
        "      tempo_times, tempi = midi_data.get_tempo_changes()\n",
        "      for time, tempo in zip(tempo_times, tempi):\n",
        "          # Add tempo changes using PrettyMIDI's built-in API\n",
        "          merged_midi.estimate_tempo()  # Automatically calculates and sets tempo\n",
        "\n",
        "      # Copy time and key signatures\n",
        "      merged_midi.time_signature_changes = midi_data.time_signature_changes\n",
        "      merged_midi.key_signature_changes = midi_data.key_signature_changes\n",
        "\n",
        "      # Write the merged MIDI file\n",
        "      merged_midi.write(output_file)\n",
        "\n",
        "  os.makedirs(\"pre-processed\")\n",
        "\n",
        "  for file in tqdm(pretty_midis):\n",
        "    try:\n",
        "      merge_tracks_to_single_instrument(file, f\"pre-processed/{os.path.basename(file)}\")\n",
        "    except Exception as e:\n",
        "      print(f\"There was an error: {e}\")\n",
        "      continue\n",
        "\n",
        "  processed = list(Path(\"pre-processed\").resolve().glob(\"**/*.mid\")) + list(Path(\"pre-processed\").resolve().glob(\"**/*.midi\"))"
      ],
      "metadata": {
        "id": "bpGBO-gULk-3"
      },
      "execution_count": null,
      "outputs": []
    },
    {
      "cell_type": "code",
      "source": [
        "if not SKIP_DATA_PREPARATION:\n",
        "  total_num_files = len(processed)\n",
        "\n",
        "  num_files_valid = round(total_num_files * 0.15)\n",
        "  shuffle(processed)\n",
        "  midi_paths_valid = processed[:num_files_valid]\n",
        "  midi_paths_train = processed[num_files_valid + num_files_test:]\n",
        "\n",
        "  # Chunk MIDIs and perform data augmentation on each subset independently\n",
        "  for files_paths, subset_name in (\n",
        "      (midi_paths_train, \"train\"), (midi_paths_valid, \"valid\")\n",
        "  ):\n",
        "      # Split the MIDIs into chunks of sizes approximately about 1024 tokens\n",
        "      subset_chunks_dir = Path(f\"Nesmdb_{subset_name}\")\n",
        "\n",
        "      split_files_for_training(\n",
        "          files_paths=files_paths,\n",
        "          tokenizer=tokenizer,\n",
        "          save_dir=subset_chunks_dir,\n",
        "          max_seq_len=1024,\n",
        "          num_overlap_bars=2,\n",
        "      )\n",
        "\n",
        "      # Perform data augmentation\n",
        "      augment_dataset(\n",
        "          subset_chunks_dir,\n",
        "          pitch_offsets=[-12, 12],\n",
        "          velocity_offsets=[-4, 4],\n",
        "          duration_offsets=[-0.5, 0.5],\n",
        "      )\n",
        "\n",
        "  midi_paths_train = list(Path(\"Nesmdb_train\").glob(\"**/*.mid\")) + list(Path(\"Nesmdb_train\").glob(\"**/*.midi\"))\n",
        "  midi_paths_valid = list(Path(\"Nesmdb_valid\").glob(\"**/*.mid\")) + list(Path(\"Nesmdb_valid\").glob(\"**/*.midi\"))\n"
      ],
      "metadata": {
        "id": "ywC0L1v5BagW"
      },
      "execution_count": null,
      "outputs": []
    },
    {
      "cell_type": "code",
      "source": [
        "if not SKIP_DATA_PREPARATION:\n",
        "  def midi_valid(midi) -> bool:\n",
        "      if any(ts.numerator != 4 for ts in midi.time_signature_changes):\n",
        "          return False  # time signature different from 4/*, 4 beats per bar\n",
        "      return True\n",
        "\n",
        "  if os.path.exists(\"tokenized_train\"):\n",
        "    shutil.rmtree(\"tokenized_train\")\n",
        "  if os.path.exists(\"tokenized_valid\"):\n",
        "    shutil.rmtree(\"tokenized_valid\")\n",
        "\n",
        "  for dir in (\"train\", \"valid\"):\n",
        "      tokenizer.tokenize_dataset(\n",
        "          Path(f\"Nesmdb_{dir}\").resolve(),\n",
        "          Path(f\"tokenized_{dir}\").resolve(),\n",
        "          midi_valid,\n",
        "      )"
      ],
      "metadata": {
        "id": "8Ku3b5IhBmwq"
      },
      "execution_count": null,
      "outputs": []
    },
    {
      "cell_type": "code",
      "source": [
        "if not SKIP_DATA_PREPARATION:\n",
        "  tokenized_train = list(Path(\"tokenized_train\").resolve().glob(\"**/*.json\"))\n",
        "  data_objects_train = read_json_files(tokenized_train)\n",
        "\n",
        "  tokenized_valid = list(Path(\"tokenized_valid\").resolve().glob(\"**/*.json\"))\n",
        "  data_objects_valid = read_json_files(tokenized_valid)\n",
        "\n",
        "\n",
        "  if data_objects_train:\n",
        "      print(f\"\\nSuccessfully read {len(data_objects_train)} training JSON files.\")\n",
        "  else:\n",
        "      print(\"Error reading JSON files.\")"
      ],
      "metadata": {
        "id": "0tR-pOLTBv1D"
      },
      "execution_count": null,
      "outputs": []
    },
    {
      "cell_type": "code",
      "source": [
        "if not SKIP_DATA_PREPARATION:\n",
        "  encoded_train = [np.array(song[\"ids\"][0]) for song in data_objects_train]\n",
        "  encoded_valid = [np.array(song[\"ids\"][0]) for song in data_objects_valid]\n",
        "\n",
        "  all_ids_train = np.concatenate(encoded_train)\n",
        "  all_ids_valid = np.concatenate(encoded_valid)"
      ],
      "metadata": {
        "id": "b-zOTmjrB0PW"
      },
      "execution_count": null,
      "outputs": []
    },
    {
      "cell_type": "markdown",
      "source": [
        "### Convert Tensorflow Dataset"
      ],
      "metadata": {
        "id": "efJeBiciCMpS"
      }
    },
    {
      "cell_type": "code",
      "source": [
        "ids_dataset_train = tf.data.Dataset.from_tensor_slices(all_ids_train)\n",
        "ids_dataset_valid = tf.data.Dataset.from_tensor_slices(all_ids_valid)"
      ],
      "metadata": {
        "id": "NVsDn3a2CLn0"
      },
      "execution_count": null,
      "outputs": []
    },
    {
      "cell_type": "markdown",
      "source": [
        "### Convert into sequences"
      ],
      "metadata": {
        "id": "dAwXclCVDyUd"
      }
    },
    {
      "cell_type": "code",
      "source": [
        "SEQ_LENGTH = 1024\n",
        "\n",
        "sequences_train = ids_dataset_train.batch(SEQ_LENGTH+1, drop_remainder=True)\n",
        "sequences_valid = ids_dataset_valid.batch(SEQ_LENGTH+1, drop_remainder=True)"
      ],
      "metadata": {
        "id": "W-Qy2-A-Dxh4"
      },
      "execution_count": null,
      "outputs": []
    },
    {
      "cell_type": "markdown",
      "source": [
        "### Preparing labels"
      ],
      "metadata": {
        "id": "sZJez9FEEAOf"
      }
    },
    {
      "cell_type": "code",
      "source": [
        "def split_input_target(sequence):\n",
        "    # Convert to float32\n",
        "    input_seq = tf.cast(sequence[:-1], tf.int32)\n",
        "    target_seq = tf.cast(sequence[1:], tf.int32)\n",
        "    return input_seq, target_seq\n",
        "\n",
        "\n",
        "train_ds = sequences_train.map(split_input_target)\n",
        "valid_ds = sequences_valid.map(split_input_target)"
      ],
      "metadata": {
        "id": "hzAZItZcD6eE"
      },
      "execution_count": null,
      "outputs": []
    },
    {
      "cell_type": "markdown",
      "source": [
        "### Creating training batches"
      ],
      "metadata": {
        "id": "tRj4kNxnEFlb"
      }
    },
    {
      "cell_type": "code",
      "source": [
        "# Batch size\n",
        "\n",
        "BATCH_SIZE = 16\n",
        "\n",
        "BUFFER_SIZE = 10000\n",
        "\n",
        "train_ds = (\n",
        "    train_ds\n",
        "    .shuffle(BUFFER_SIZE)\n",
        "    .batch(BATCH_SIZE, drop_remainder=True)\n",
        "    .prefetch(tf.data.experimental.AUTOTUNE))\n",
        "valid_ds = (\n",
        "    valid_ds\n",
        "    .shuffle(BUFFER_SIZE)\n",
        "    .batch(BATCH_SIZE, drop_remainder=True)\n",
        "    .prefetch(tf.data.experimental.AUTOTUNE))"
      ],
      "metadata": {
        "id": "-YWJRLhxD-PI"
      },
      "execution_count": null,
      "outputs": []
    },
    {
      "cell_type": "markdown",
      "source": [
        "## Get the model"
      ],
      "metadata": {
        "id": "g1Ic7gH0EJYa"
      }
    },
    {
      "cell_type": "code",
      "source": [
        "!gdown 1FfofRGCzuD6x54Q3mF2c_f50wuzbPp_i\n",
        "\n",
        "!unzip NESGEN_Nesmdb5.zip\n",
        "!rm -rf NESGEN_Nesmdb5.zip"
      ],
      "metadata": {
        "id": "ufz6VtpbEIa0"
      },
      "execution_count": null,
      "outputs": []
    },
    {
      "cell_type": "markdown",
      "source": [
        "## Train"
      ],
      "metadata": {
        "id": "AD8NTedeERrt"
      }
    },
    {
      "cell_type": "code",
      "source": [
        "from transformers import TFAutoModelForCausalLM\n",
        "model = TFAutoModelForCausalLM.from_pretrained(\"./nesgen-maestro0612\")\n",
        "\n",
        "loss = tf.losses.SparseCategoricalCrossentropy(from_logits=True)\n",
        "model.compile(loss=loss,\n",
        "              optimizer=\"adam\",\n",
        "              weighted_metrics=[\"sparse_categorical_accuracy\"],\n",
        "              jit_compile=True,\n",
        "              )"
      ],
      "metadata": {
        "id": "A4DAbc3yES6R"
      },
      "execution_count": null,
      "outputs": []
    },
    {
      "cell_type": "code",
      "source": [
        "EPOCHS = 5\n",
        "if TRAIN:\n",
        "  history = model.fit(\n",
        "      train_ds,\n",
        "      epochs=EPOCHS,\n",
        "      validation_data=valid_ds,\n",
        "  )"
      ],
      "metadata": {
        "id": "wrue6Hn5EWct"
      },
      "execution_count": null,
      "outputs": []
    },
    {
      "cell_type": "code",
      "source": [
        "model.from_pretrained(\"nesgen_v1\")"
      ],
      "metadata": {
        "id": "sWozgMHIICYa"
      },
      "execution_count": null,
      "outputs": []
    },
    {
      "cell_type": "code",
      "source": [
        "dump_seed = False\n",
        "\n",
        "seed = get_seed()\n",
        "input_ids = tf.convert_to_tensor(seed)  # Assuming seed is a 1D tensor of token IDs\n",
        "input_ids = tf.expand_dims(input_ids, 0)  # Add an extra dimension to represent batch size\n",
        "\n",
        "if dump_seed:\n",
        "    midi = tokenizer.decode([seed])\n",
        "    midi.dump_midi(\"seed.mid\")\n",
        "\n",
        "# Generate continuation\n",
        "outputs = model.generate(\n",
        "    input_ids=input_ids,\n",
        "    max_new_tokens=256,  # Maximum length of generated sequence\n",
        "    num_return_sequences=1,  # Number of sequences to return\n",
        "    do_sample=True,  # Use sampling (True) or greedy decoding (False)\n",
        "    temperature=0.7  # Sampling temperature (lower is more conservative)\n",
        ")\n",
        "\n",
        "input_length = input_ids.shape[1]\n",
        "generated_tokens = outputs[:, input_length:] # skip seed\n",
        "\n",
        "# Decode and print the generated text\n",
        "generated = tokenizer.decode([generated_tokens[0]])\n",
        "generated.dump_midi(\"nesgen-nesdb-generation.mid\")"
      ],
      "metadata": {
        "id": "JbBB7k3qEjzO"
      },
      "execution_count": null,
      "outputs": []
    },
    {
      "cell_type": "code",
      "source": [],
      "metadata": {
        "id": "1DLc-Fi8Iyxb"
      },
      "execution_count": null,
      "outputs": []
    }
  ]
}